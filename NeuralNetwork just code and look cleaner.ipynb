{
 "cells": [
  {
   "cell_type": "code",
   "execution_count": 1,
   "metadata": {},
   "outputs": [],
   "source": [
    "import pandas as pd \n",
    "import numpy as np \n",
    "from stephentools import get_file\n",
    "from stephentools import data_d3\n",
    "from stephentools import analyse_feature_importance\n",
    "from stephentools import visualize_decision_tree\n",
    "from sklearn.metrics import r2_score\n",
    "\n",
    "from sklearn.neural_network import MLPClassifier\n",
    "from sklearn.metrics import classification_report, accuracy_score\n",
    "from sklearn.model_selection import GridSearchCV\n",
    "from sklearn.preprocessing import StandardScaler\n",
    "from sklearn.metrics import roc_auc_score\n",
    "\n",
    "from sklearn.metrics import roc_curve"
   ]
  },
  {
   "cell_type": "code",
   "execution_count": 2,
   "metadata": {},
   "outputs": [],
   "source": [
    "df = get_file()\n",
    "df,X,y,X_train, X_test, y_train, y_test=data_d3()\n",
    "rs=42"
   ]
  },
  {
   "cell_type": "markdown",
   "metadata": {},
   "source": [
    "# DEFAULT "
   ]
  },
  {
   "cell_type": "code",
   "execution_count": 3,
   "metadata": {},
   "outputs": [
    {
     "name": "stdout",
     "output_type": "stream",
     "text": [
      "Train accuracy: 0.8561190738699008\n",
      "Test accuracy: 0.7970330411328388\n",
      "              precision    recall  f1-score   support\n",
      "\n",
      "       False       0.85      0.82      0.84       940\n",
      "        True       0.71      0.75      0.73       543\n",
      "\n",
      "    accuracy                           0.80      1483\n",
      "   macro avg       0.78      0.79      0.78      1483\n",
      "weighted avg       0.80      0.80      0.80      1483\n",
      "\n",
      "MLPClassifier(activation='relu', alpha=0.0001, batch_size='auto', beta_1=0.9,\n",
      "              beta_2=0.999, early_stopping=False, epsilon=1e-08,\n",
      "              hidden_layer_sizes=(100,), learning_rate='constant',\n",
      "              learning_rate_init=0.001, max_iter=200, momentum=0.9,\n",
      "              n_iter_no_change=10, nesterovs_momentum=True, power_t=0.5,\n",
      "              random_state=42, shuffle=True, solver='adam', tol=0.0001,\n",
      "              validation_fraction=0.1, verbose=False, warm_start=False)\n"
     ]
    },
    {
     "name": "stderr",
     "output_type": "stream",
     "text": [
      "C:\\ProgramData\\Anaconda3\\lib\\site-packages\\sklearn\\neural_network\\multilayer_perceptron.py:566: ConvergenceWarning: Stochastic Optimizer: Maximum iterations (200) reached and the optimization hasn't converged yet.\n",
      "  % self.max_iter, ConvergenceWarning)\n"
     ]
    }
   ],
   "source": [
    "model_1 = MLPClassifier(random_state=rs)\n",
    "model_1.fit(X_train, y_train)\n",
    "\n",
    "print(\"Train accuracy:\", model_1.score(X_train, y_train))\n",
    "print(\"Test accuracy:\", model_1.score(X_test, y_test))\n",
    "\n",
    "y_pred_1 = model_1.predict(X_test)\n",
    "print(classification_report(y_test, y_pred))\n",
    "\n",
    "print(model_1)"
   ]
  },
  {
   "cell_type": "code",
   "execution_count": 4,
   "metadata": {},
   "outputs": [
    {
     "name": "stdout",
     "output_type": "stream",
     "text": [
      "Train accuracy: 0.8616317530319736\n",
      "Test accuracy: 0.799055967633176\n"
     ]
    }
   ],
   "source": [
    "model_2 = MLPClassifier(random_state=42, max_iter=250)\n",
    "model_2.fit(X_train, y_train)\n",
    "print(\"Train accuracy:\", model_2.score(X_train, y_train))\n",
    "print(\"Test accuracy:\", model_2.score(X_test, y_test))\n",
    "y_pred_2 = model_2.predict(X_test)"
   ]
  },
  {
   "cell_type": "markdown",
   "metadata": {},
   "source": [
    "# TUNED "
   ]
  },
  {
   "cell_type": "code",
   "execution_count": 5,
   "metadata": {},
   "outputs": [
    {
     "name": "stderr",
     "output_type": "stream",
     "text": [
      "C:\\ProgramData\\Anaconda3\\lib\\site-packages\\sklearn\\neural_network\\multilayer_perceptron.py:566: ConvergenceWarning: Stochastic Optimizer: Maximum iterations (200) reached and the optimization hasn't converged yet.\n",
      "  % self.max_iter, ConvergenceWarning)\n"
     ]
    },
    {
     "data": {
      "text/plain": [
       "GridSearchCV(cv=10, error_score='raise-deprecating',\n",
       "             estimator=MLPClassifier(activation='relu', alpha=0.0001,\n",
       "                                     batch_size='auto', beta_1=0.9,\n",
       "                                     beta_2=0.999, early_stopping=False,\n",
       "                                     epsilon=1e-08, hidden_layer_sizes=(100,),\n",
       "                                     learning_rate='constant',\n",
       "                                     learning_rate_init=0.001, max_iter=200,\n",
       "                                     momentum=0.9, n_iter_no_change=10,\n",
       "                                     nesterovs_momentum=True, power_t=0.5,\n",
       "                                     random_state=42, shuffle=True,\n",
       "                                     solver='adam', tol=0.0001,\n",
       "                                     validation_fraction=0.1, verbose=False,\n",
       "                                     warm_start=False),\n",
       "             iid='warn', n_jobs=-1,\n",
       "             param_grid={'activation': ['tanh'],\n",
       "                         'hidden_layer_sizes': [(100,), (120,), (140,), (160,),\n",
       "                                                (180,)]},\n",
       "             pre_dispatch='2*n_jobs', refit=True, return_train_score=True,\n",
       "             scoring=None, verbose=0)"
      ]
     },
     "execution_count": 5,
     "metadata": {},
     "output_type": "execute_result"
    }
   ],
   "source": [
    "params = {'hidden_layer_sizes': [(x,) for x in range(100, 200, 20)], 'activation':['tanh']}\n",
    "\n",
    "model_3 = GridSearchCV(param_grid=params, estimator=MLPClassifier(random_state=rs),return_train_score=True, cv=10, n_jobs=-1)\n",
    "model_3.fit(X_train, y_train)"
   ]
  },
  {
   "cell_type": "code",
   "execution_count": 22,
   "metadata": {},
   "outputs": [
    {
     "name": "stdout",
     "output_type": "stream",
     "text": [
      "Train accuracy: 0.9137265711135611\n",
      "Test accuracy: 0.7997302764666218\n"
     ]
    },
    {
     "data": {
      "text/plain": [
       "{'hidden_layer_sizes': (145,)}"
      ]
     },
     "execution_count": 22,
     "metadata": {},
     "output_type": "execute_result"
    }
   ],
   "source": [
    "print(\"Train accuracy:\", model_3.score(X_train, y_train))\n",
    "print(\"Test accuracy:\", model_3.score(X_test, y_test))\n",
    "y_pred_2 = model_3.predict(X_test)\n",
    "model_4.best_params_"
   ]
  },
  {
   "cell_type": "code",
   "execution_count": 7,
   "metadata": {},
   "outputs": [
    {
     "name": "stdout",
     "output_type": "stream",
     "text": [
      "Train accuracy: 0.8497794928335171\n",
      "Test accuracy: 0.7835468644639245\n",
      "              precision    recall  f1-score   support\n",
      "\n",
      "       False       0.84      0.81      0.83       940\n",
      "        True       0.69      0.73      0.71       543\n",
      "\n",
      "    accuracy                           0.78      1483\n",
      "   macro avg       0.77      0.77      0.77      1483\n",
      "weighted avg       0.79      0.78      0.78      1483\n",
      "\n",
      "{'hidden_layer_sizes': (145,)}\n"
     ]
    }
   ],
   "source": [
    "params = {'hidden_layer_sizes': [(x,) for x in range(130, 160, 15)]}\n",
    "\n",
    "model_4 = GridSearchCV(param_grid=params, estimator=MLPClassifier(random_state=rs), cv=10, n_jobs=-1)\n",
    "model_4.fit(X_train, y_train)\n",
    "\n",
    "print(\"Train accuracy:\", model_4.score(X_train, y_train))\n",
    "print(\"Test accuracy:\", model_4.score(X_test, y_test))\n",
    "\n",
    "y_pred = model_4.predict(X_test)\n",
    "print(classification_report(y_test, y_pred))\n",
    "\n",
    "print(model_4.best_params_)"
   ]
  },
  {
   "cell_type": "code",
   "execution_count": 8,
   "metadata": {},
   "outputs": [
    {
     "name": "stdout",
     "output_type": "stream",
     "text": [
      "Train accuracy: 0.824696802646086\n",
      "Test accuracy: 0.8044504383007417\n",
      "              precision    recall  f1-score   support\n",
      "\n",
      "       False       0.81      0.90      0.85       940\n",
      "        True       0.79      0.64      0.70       543\n",
      "\n",
      "    accuracy                           0.80      1483\n",
      "   macro avg       0.80      0.77      0.78      1483\n",
      "weighted avg       0.80      0.80      0.80      1483\n",
      "\n",
      "MLPClassifier(activation='tanh', alpha=0.0001, batch_size='auto', beta_1=0.9,\n",
      "              beta_2=0.999, early_stopping=False, epsilon=1e-08,\n",
      "              hidden_layer_sizes=165, learning_rate='constant',\n",
      "              learning_rate_init=0.001, max_iter=1000, momentum=0.9,\n",
      "              n_iter_no_change=10, nesterovs_momentum=True, power_t=0.5,\n",
      "              random_state=42, shuffle=True, solver='lbfgs', tol=0.0001,\n",
      "              validation_fraction=0.1, verbose=False, warm_start=False)\n"
     ]
    }
   ],
   "source": [
    "model_5 = MLPClassifier(hidden_layer_sizes=165, max_iter=1000, solver='lbfgs', random_state=42, activation='tanh')\n",
    "model_5.fit(X_train, y_train)\n",
    "\n",
    "print(\"Train accuracy:\", model_5.score(X_train, y_train))\n",
    "print(\"Test accuracy:\", model_5.score(X_test, y_test))\n",
    "\n",
    "y_pred = model_5.predict(X_test)\n",
    "print(classification_report(y_test, y_pred))\n",
    "\n",
    "print(model_5)"
   ]
  },
  {
   "cell_type": "code",
   "execution_count": 24,
   "metadata": {},
   "outputs": [
    {
     "ename": "AttributeError",
     "evalue": "'MLPClassifier' object has no attribute 'best_params_'",
     "output_type": "error",
     "traceback": [
      "\u001b[1;31m---------------------------------------------------------------------------\u001b[0m",
      "\u001b[1;31mAttributeError\u001b[0m                            Traceback (most recent call last)",
      "\u001b[1;32m<ipython-input-24-57552199321b>\u001b[0m in \u001b[0;36m<module>\u001b[1;34m\u001b[0m\n\u001b[1;32m----> 1\u001b[1;33m \u001b[0mmodel_5\u001b[0m\u001b[1;33m.\u001b[0m\u001b[0mbest_params_\u001b[0m\u001b[1;33m\u001b[0m\u001b[1;33m\u001b[0m\u001b[0m\n\u001b[0m",
      "\u001b[1;31mAttributeError\u001b[0m: 'MLPClassifier' object has no attribute 'best_params_'"
     ]
    }
   ],
   "source": []
  },
  {
   "cell_type": "code",
   "execution_count": 9,
   "metadata": {},
   "outputs": [
    {
     "name": "stdout",
     "output_type": "stream",
     "text": [
      "Train accuracy: 0.9798787210584344\n",
      "Test accuracy: 0.7936614969656103\n",
      "              precision    recall  f1-score   support\n",
      "\n",
      "       False       0.82      0.86      0.84       940\n",
      "        True       0.74      0.68      0.71       543\n",
      "\n",
      "    accuracy                           0.79      1483\n",
      "   macro avg       0.78      0.77      0.77      1483\n",
      "weighted avg       0.79      0.79      0.79      1483\n",
      "\n",
      "MLPClassifier(activation='tanh', alpha=0.0001, batch_size='auto', beta_1=0.9,\n",
      "              beta_2=0.999, early_stopping=False, epsilon=1e-08,\n",
      "              hidden_layer_sizes=145, learning_rate='constant',\n",
      "              learning_rate_init=0.001, max_iter=700, momentum=0.9,\n",
      "              n_iter_no_change=10, nesterovs_momentum=True, power_t=0.5,\n",
      "              random_state=42, shuffle=True, solver='adam', tol=0.0001,\n",
      "              validation_fraction=0.1, verbose=False, warm_start=False)\n"
     ]
    }
   ],
   "source": [
    "model_6 = MLPClassifier(hidden_layer_sizes=145, max_iter=700, solver='adam', random_state=42, activation='tanh')\n",
    "model_6.fit(X_train, y_train)\n",
    "\n",
    "print(\"Train accuracy:\", model_6.score(X_train, y_train))\n",
    "print(\"Test accuracy:\", model_6.score(X_test, y_test))\n",
    "\n",
    "y_pred = model_6.predict(X_test)\n",
    "print(classification_report(y_test, y_pred))\n",
    "\n",
    "print(model_6)"
   ]
  },
  {
   "cell_type": "code",
   "execution_count": 11,
   "metadata": {},
   "outputs": [
    {
     "name": "stdout",
     "output_type": "stream",
     "text": [
      "Train accuracy: 0.831587651598677\n",
      "Test accuracy: 0.7970330411328388\n",
      "              precision    recall  f1-score   support\n",
      "\n",
      "       False       0.81      0.89      0.85       940\n",
      "        True       0.77      0.64      0.70       543\n",
      "\n",
      "    accuracy                           0.80      1483\n",
      "   macro avg       0.79      0.76      0.77      1483\n",
      "weighted avg       0.79      0.80      0.79      1483\n",
      "\n",
      "MLPClassifier(activation='logistic', alpha=0.0001, batch_size='auto',\n",
      "              beta_1=0.9, beta_2=0.999, early_stopping=False, epsilon=1e-08,\n",
      "              hidden_layer_sizes=165, learning_rate='constant',\n",
      "              learning_rate_init=0.001, max_iter=1000, momentum=0.9,\n",
      "              n_iter_no_change=10, nesterovs_momentum=True, power_t=0.5,\n",
      "              random_state=42, shuffle=True, solver='lbfgs', tol=0.0001,\n",
      "              validation_fraction=0.1, verbose=False, warm_start=False)\n"
     ]
    }
   ],
   "source": [
    "model_7 = MLPClassifier(hidden_layer_sizes=165, max_iter=1000, solver='lbfgs', random_state=42, activation='logistic')\n",
    "model_7.fit(X_train, y_train)\n",
    "\n",
    "print(\"Train accuracy:\", model_7.score(X_train, y_train))\n",
    "print(\"Test accuracy:\", model_7.score(X_test, y_test))\n",
    "\n",
    "y_pred = model_7.predict(X_test)\n",
    "print(classification_report(y_test, y_pred))\n",
    "\n",
    "print(model_7)"
   ]
  },
  {
   "cell_type": "code",
   "execution_count": 32,
   "metadata": {},
   "outputs": [
    {
     "name": "stdout",
     "output_type": "stream",
     "text": [
      "Train accuracy: 0.863561190738699\n",
      "Test accuracy: 0.7936614969656103\n",
      "              precision    recall  f1-score   support\n",
      "\n",
      "       False       0.78      0.94      0.85       940\n",
      "        True       0.85      0.53      0.65       543\n",
      "\n",
      "    accuracy                           0.79      1483\n",
      "   macro avg       0.81      0.74      0.75      1483\n",
      "weighted avg       0.80      0.79      0.78      1483\n",
      "\n",
      "MLPClassifier(activation='tanh', alpha=0.05, batch_size='auto', beta_1=0.9,\n",
      "              beta_2=0.999, early_stopping=False, epsilon=1e-08,\n",
      "              hidden_layer_sizes=165, learning_rate='constant',\n",
      "              learning_rate_init=0.001, max_iter=300, momentum=0.9,\n",
      "              n_iter_no_change=10, nesterovs_momentum=True, power_t=0.5,\n",
      "              random_state=42, shuffle=True, solver='adam', tol=0.0001,\n",
      "              validation_fraction=0.1, verbose=False, warm_start=False)\n"
     ]
    }
   ],
   "source": [
    "model_z = MLPClassifier(hidden_layer_sizes=165, max_iter=300, solver='adam', random_state=42, activation='tanh',alpha= 0.05)\n",
    "model_z.fit(X_train, y_train)\n",
    "\n",
    "print(\"Train accuracy:\", model_z.score(X_train, y_train))\n",
    "print(\"Test accuracy:\", model_z.score(X_test, y_test))\n",
    "\n",
    "y_pred = model_z.predict(X_test)\n",
    "print(classification_report(y_test, y_pred))\n",
    "\n",
    "print(model_z)"
   ]
  },
  {
   "cell_type": "markdown",
   "metadata": {},
   "source": [
    "# Chart "
   ]
  },
  {
   "cell_type": "code",
   "execution_count": 44,
   "metadata": {},
   "outputs": [
    {
     "name": "stdout",
     "output_type": "stream",
     "text": [
      "ROC index on test for model_1: 0.8688139179499236\n",
      "ROC index on test for model_2: 0.8670761333803534\n",
      "ROC index on test for model_3: 0.8640159084675365\n",
      "ROC index on test for model_4: 0.8542122173896007\n",
      "ROC index on test for model_5: 0.8645507621174718\n",
      "ROC index on test for model_6: 0.8519650483915209\n",
      "ROC index on test for model_7: 0.8504427726186278\n",
      "ROC index on test for model_z: 0.8750911014458681\n",
      "ROC index on test for NN with feature selection (model selection) and gridsearch: 0.8503232631950158\n"
     ]
    }
   ],
   "source": [
    "y_pred_proba_nn_1 = model_1.predict_proba(X_test)\n",
    "y_pred_proba_nn_2 = model_2.predict_proba(X_test)\n",
    "y_pred_proba_nn_3 = model_3.predict_proba(X_test)\n",
    "y_pred_proba_nn_4 = model_4.predict_proba(X_test)\n",
    "y_pred_proba_nn_5 = model_5.predict_proba(X_test)\n",
    "y_pred_proba_nn_6 = model_6.predict_proba(X_test)\n",
    "y_pred_proba_nn_7 = model_7.predict_proba(X_test)\n",
    "y_pred_proba_nn_z = model_z.predict_proba(X_test)\n",
    "y_pred_proba_cv_sel_model = model_8.predict_proba(X_test_sel_model)\n",
    "\n",
    "\n",
    "\n",
    "roc_index_nn_1 = roc_auc_score(y_test, y_pred_proba_nn_1[:, 1])\n",
    "roc_index_nn_2 = roc_auc_score(y_test, y_pred_proba_nn_2[:, 1])\n",
    "roc_index_nn_3 = roc_auc_score(y_test, y_pred_proba_nn_3[:, 1])\n",
    "roc_index_nn_4 = roc_auc_score(y_test, y_pred_proba_nn_4[:, 1])\n",
    "roc_index_nn_5 = roc_auc_score(y_test, y_pred_proba_nn_5[:, 1])\n",
    "roc_index_nn_6 = roc_auc_score(y_test, y_pred_proba_nn_6[:, 1])\n",
    "roc_index_nn_7 = roc_auc_score(y_test, y_pred_proba_nn_7[:, 1])\n",
    "roc_index_nn_z = roc_auc_score(y_test, y_pred_proba_nn_z[:, 1])\n",
    "roc_index_cv_sel_model = roc_auc_score(y_test, y_pred_proba_cv_sel_model[:, 1])\n",
    "\n",
    "\n",
    "print(\"ROC index on test for model_1:\", roc_index_nn_1)\n",
    "print(\"ROC index on test for model_2:\", roc_index_nn_2)\n",
    "print(\"ROC index on test for model_3:\", roc_index_nn_3)\n",
    "print(\"ROC index on test for model_4:\", roc_index_nn_4)\n",
    "print(\"ROC index on test for model_5:\", roc_index_nn_5)\n",
    "print(\"ROC index on test for model_6:\", roc_index_nn_6)\n",
    "print(\"ROC index on test for model_7:\", roc_index_nn_7)\n",
    "print(\"ROC index on test for model_z:\", roc_index_nn_z)\n",
    "print(\"ROC index on test for NN with feature selection (model selection) and gridsearch:\", roc_index_cv_sel_model)\n",
    "#print(\"ROC index on test for NN with feature selection (model selection) and gridsearch two:\", roc_index_nn_y)"
   ]
  },
  {
   "cell_type": "code",
   "execution_count": 45,
   "metadata": {},
   "outputs": [],
   "source": [
    "fpr_nn_1, tpr_nn_1, thresholds_nn_1 = roc_curve(y_test, y_pred_proba_nn_1[:,1])\n",
    "fpr_nn_2, tpr_nn_2, thresholds_nn_2 = roc_curve(y_test, y_pred_proba_nn_2[:,1])\n",
    "fpr_cv_3, tpr_cv_3, thresholds_cv_3 = roc_curve(y_test, y_pred_proba_nn_3[:,1])\n",
    "fpr_cv_4, tpr_cv_4, thresholds_cv_4 = roc_curve(y_test, y_pred_proba_nn_4[:,1])\n",
    "fpr_cv_5, tpr_cv_5, thresholds_cv_5 = roc_curve(y_test, y_pred_proba_nn_5[:,1])\n",
    "fpr_nn_6, tpr_nn_6, thresholds_nn_6 = roc_curve(y_test, y_pred_proba_nn_6[:, 1])\n",
    "fpr_nn_7, tpr_nn_7, thresholds_nn_7 = roc_curve(y_test, y_pred_proba_nn_7[:, 1])\n",
    "fpr_nn_z, tpr_nn_z, thresholds_nn_z = roc_curve(y_test, y_pred_proba_nn_z[:, 1])\n",
    "fpr_cv_sel_model, tpr_cv_sel_model, thresholds_cv_sel_model = roc_curve(y_test, y_pred_proba_cv_sel_model[:, 1])"
   ]
  },
  {
   "cell_type": "code",
   "execution_count": 50,
   "metadata": {},
   "outputs": [
    {
     "data": {
      "image/png": "[encoded data removed]",
      "text/plain": [
       "<Figure size 432x288 with 1 Axes>"
      ]
     },
     "metadata": {
      "needs_background": "light"
     },
     "output_type": "display_data"
    }
   ],
   "source": [
    "import matplotlib.pyplot as plt\n",
    "plt.plot(fpr_nn_1, tpr_nn_1, label='default(1) {:.4f}'.format(roc_index_nn_1), color='red', lw=0.5)\n",
    "plt.plot(fpr_nn_2, tpr_nn_2, label='default(2) {:.3f}'.format(roc_index_nn_2), color='green', lw=0.5)\n",
    "\"\"\"\n",
    "\n",
    "\n",
    "plt.plot(fpr_cv_3, tpr_cv_3, label='model 3 {:.3f}'.format(roc_index_nn_3), color='blue', lw=0.5)\n",
    "plt.plot(fpr_cv_4, tpr_cv_4, label='model 4 {:.3f}'.format(roc_index_nn_4), color='yellow', lw=0.5)\n",
    "plt.plot(fpr_cv_5, tpr_cv_5, label='model 5 {:.3f}'.format(roc_index_nn_5), color='cyan', lw=0.5)\n",
    "plt.plot(fpr_nn_6, tpr_nn_6, label='model 6 {:.3f}'.format(roc_index_nn_6), color='gray', lw=0.5)\n",
    "plt.plot(fpr_nn_7, tpr_nn_7, label='model 7 {:.3f}'.format(roc_index_nn_6), color='white', lw=0.5)\n",
    "\"\"\"\n",
    "plt.plot(fpr_nn_z, tpr_nn_z, label='model Z: {:.3f}'.format(roc_index_nn_z), color='purple', lw=0.5)\n",
    "plt.plot(fpr_cv_sel_model, tpr_cv_sel_model, label='Model 8: {:.3f}'.format(roc_index_cv_sel_model), color='black', lw=0.5)\n",
    "#plt.plot(fpr_nn_df2,tpr_nn_df2, label='NN default but converged {:.3f}'.format(roc_index_nn_y), color='pink', lw=0.5)\n",
    "\n",
    "plt.plot([0, 1], [0, 1], color='navy', lw=0.5, linestyle='--')\n",
    "plt.xlim([0.0, 1.0])\n",
    "plt.ylim([0.0, 1.0])\n",
    "plt.xlabel('False Positive Rate')\n",
    "plt.ylabel('True Positive Rate')\n",
    "plt.title('Comparing all models based on ROC')\n",
    "plt.legend(loc=\"lower right\")\n",
    "plt.show()"
   ]
  },
  {
   "cell_type": "markdown",
   "metadata": {},
   "source": [
    "# Selected DTree"
   ]
  },
  {
   "cell_type": "code",
   "execution_count": 33,
   "metadata": {},
   "outputs": [
    {
     "name": "stdout",
     "output_type": "stream",
     "text": [
      "DecisionTreeClassifier(class_weight=None, criterion='gini', max_depth=17,\n",
      "                       max_features=None, max_leaf_nodes=None,\n",
      "                       min_impurity_decrease=0.0, min_impurity_split=None,\n",
      "                       min_samples_leaf=19, min_samples_split=2,\n",
      "                       min_weight_fraction_leaf=0.0, presort=False,\n",
      "                       random_state=None, splitter='best')\n"
     ]
    }
   ],
   "source": [
    "import pickle\n",
    "with open('DTT.pickle', 'rb') as f:\n",
    "    dt_best,roc_index_dt_best, fpr_dt_best, tpr_dt_best = pickle.load(f)\n",
    "\n",
    "print(dt_best)"
   ]
  },
  {
   "cell_type": "code",
   "execution_count": 34,
   "metadata": {},
   "outputs": [
    {
     "name": "stdout",
     "output_type": "stream",
     "text": [
      "covid19_symptoms : 0.3413410241684238\n",
      "income_med : 0.18583591701192714\n",
      "worried : 0.10597455395847406\n",
      "working_travel critical : 0.058456086094415056\n",
      "health_worker : 0.029439756971372532\n",
      "house_count : 0.02846692453189881\n",
      "insurance : 0.023375679022204356\n",
      "weight : 0.022865605806404263\n",
      "risk_mortality : 0.022056023109254124\n",
      "race_white : 0.021000208218148336\n",
      "contacts_count : 0.016268617887987565\n",
      "covid19_contact : 0.016206941039674228\n",
      "age_70_80 : 0.015852509441646016\n",
      "height : 0.015429613628938533\n",
      "age_60_70 : 0.010948533352158472\n",
      "immigrant : 0.010781599055408436\n",
      "country_BR : 0.010712895934315132\n",
      "age_20_30 : 0.009095618572086035\n",
      "country_US : 0.008013776318196587\n",
      "age_40_50 : 0.007704844036732804\n"
     ]
    }
   ],
   "source": [
    "analyse_feature_importance(dt_best, X.columns)"
   ]
  },
  {
   "cell_type": "code",
   "execution_count": 35,
   "metadata": {},
   "outputs": [
    {
     "name": "stdout",
     "output_type": "stream",
     "text": [
      "(3628, 21)\n"
     ]
    }
   ],
   "source": [
    "from sklearn.feature_selection import SelectFromModel\n",
    "\n",
    "selectmodel = SelectFromModel(dt_best, prefit=True)\n",
    "X_train_sel_model = selectmodel.transform(X_train)\n",
    "X_test_sel_model = selectmodel.transform(X_test)\n",
    "\n",
    "print(X_train_sel_model.shape)"
   ]
  },
  {
   "cell_type": "code",
   "execution_count": 38,
   "metadata": {},
   "outputs": [
    {
     "name": "stdout",
     "output_type": "stream",
     "text": [
      "Train accuracy: 0.804851157662624\n",
      "Test accuracy: 0.7929871881321645\n",
      "              precision    recall  f1-score   support\n",
      "\n",
      "       False       0.82      0.86      0.84       940\n",
      "        True       0.73      0.68      0.71       543\n",
      "\n",
      "    accuracy                           0.79      1483\n",
      "   macro avg       0.78      0.77      0.77      1483\n",
      "weighted avg       0.79      0.79      0.79      1483\n",
      "\n",
      "MLPClassifier(activation='tanh', alpha=0.05, batch_size='auto', beta_1=0.9,\n",
      "              beta_2=0.999, early_stopping=False, epsilon=1e-08,\n",
      "              hidden_layer_sizes=16, learning_rate='constant',\n",
      "              learning_rate_init=0.001, max_iter=200, momentum=0.9,\n",
      "              n_iter_no_change=10, nesterovs_momentum=True, power_t=0.5,\n",
      "              random_state=42, shuffle=True, solver='adam', tol=0.0001,\n",
      "              validation_fraction=0.1, verbose=False, warm_start=False)\n"
     ]
    }
   ],
   "source": [
    "model_8 = MLPClassifier(hidden_layer_sizes=16, solver='adam', random_state=42, activation='tanh',alpha= 0.05)\n",
    "model_8.fit(X_train_sel_model, y_train)\n",
    "\n",
    "print(\"Train accuracy:\", model_8.score(X_train_sel_model, y_train))\n",
    "print(\"Test accuracy:\", model_8.score(X_test_sel_model, y_test))\n",
    "\n",
    "y_pred = model_8.predict(X_test_sel_model)\n",
    "print(classification_report(y_test, y_pred))\n",
    "\n",
    "print(model_8)"
   ]
  },
  {
   "cell_type": "code",
   "execution_count": 39,
   "metadata": {},
   "outputs": [
    {
     "name": "stdout",
     "output_type": "stream",
     "text": [
      "Train accuracy: 0.804851157662624\n",
      "Test accuracy: 0.7929871881321645\n",
      "              precision    recall  f1-score   support\n",
      "\n",
      "       False       0.82      0.86      0.84       940\n",
      "        True       0.73      0.68      0.71       543\n",
      "\n",
      "    accuracy                           0.79      1483\n",
      "   macro avg       0.78      0.77      0.77      1483\n",
      "weighted avg       0.79      0.79      0.79      1483\n",
      "\n",
      "{'activation': 'tanh', 'alpha': 0.05, 'hidden_layer_sizes': (16,), 'solver': 'adam'}\n"
     ]
    }
   ],
   "source": [
    "params = {'hidden_layer_sizes': [(x,) for x in range(1,20, 1)],'activation': ['tanh', 'relu'],\n",
    "    'solver': ['lbfgs', 'adam'],\n",
    "    'alpha': [0.0001, 0.05]}\n",
    "\n",
    "cv_sel_model = GridSearchCV(param_grid=params, estimator=MLPClassifier(random_state=rs),return_train_score=True, cv=10, n_jobs=-1)\n",
    "cv_sel_model.fit(X_train_sel_model, y_train)\n",
    "\n",
    "print(\"Train accuracy:\", cv_sel_model.score(X_train_sel_model, y_train))\n",
    "print(\"Test accuracy:\", cv_sel_model.score(X_test_sel_model, y_test))\n",
    "\n",
    "y_pred = cv_sel_model.predict(X_test_sel_model)\n",
    "print(classification_report(y_test, y_pred))\n",
    "\n",
    "print(cv_sel_model.best_params_)"
   ]
  },
  {
   "cell_type": "code",
   "execution_count": 43,
   "metadata": {},
   "outputs": [
    {
     "name": "stdout",
     "output_type": "stream",
     "text": [
      "Total number of models:  152\n"
     ]
    },
    {
     "data": {
      "image/png": "[encoded data removed]",
      "text/plain": [
       "<Figure size 432x288 with 1 Axes>"
      ]
     },
     "metadata": {
      "needs_background": "light"
     },
     "output_type": "display_data"
    }
   ],
   "source": [
    "result_set = cv_sel_model.cv_results_\n",
    "import matplotlib.pyplot as plt\n",
    "train_result = result_set['mean_train_score']\n",
    "test_result = result_set['mean_test_score']\n",
    "print(\"Total number of models: \", len(test_result))\n",
    "# plot Hyperparameter C values vs training and test accuracy score\n",
    "plt.plot(range(0, len(train_result)), train_result, 'b', range(0,len(test_result)), test_result, 'r')\n",
    "plt.xlabel('Layer\\nBlue = training acc. Red = test acc.')\n",
    "plt.xticks(range(0, len(train_result)),[(x,) for x in range(1,20, 1)])\n",
    "plt.ylabel('score')\n",
    "plt.show()\n"
   ]
  },
  {
   "cell_type": "code",
   "execution_count": 42,
   "metadata": {},
   "outputs": [
    {
     "name": "stdout",
     "output_type": "stream",
     "text": [
      "Number of Layers:  3\n",
      "The First layer is Input Layer, and the last layer is the output layer\n",
      "1 Layer with hidden size 166\n",
      "2 Layer with hidden size 165\n",
      "3 Layer with hidden size 1\n",
      "The activation function:  tanh\n",
      "The alpha function:  0.05\n",
      "The solver function:  adam\n"
     ]
    }
   ],
   "source": [
    "def printMLPArchitecture(model):\n",
    "\n",
    "    print(\"Number of Layers: \",model.n_layers_ )\n",
    "    print(\"The First layer is Input Layer, and the last layer is the output layer\")\n",
    "    for i, w in enumerate(model.coefs_):\n",
    "        print(\"{} Layer with hidden size {}\".format(i+1, w.shape[0]))\n",
    "        if (i+1) == len(model.coefs_):\n",
    "            print(\"{} Layer with hidden size {}\".format(i+2, w.shape[1]))\n",
    "    \n",
    "    print(\"The activation function: \", model.activation)\n",
    "    print(\"The alpha function: \",model.alpha)\n",
    "    print(\"The solver function: \", model.solver)\n",
    "            \n",
    "printMLPArchitecture(model_z)"
   ]
  },
  {
   "cell_type": "code",
   "execution_count": null,
   "metadata": {},
   "outputs": [],
   "source": []
  }
 ],
 "metadata": {
  "kernelspec": {
   "display_name": "Python 3",
   "language": "python",
   "name": "python3"
  },
  "language_info": {
   "codemirror_mode": {
    "name": "ipython",
    "version": 3
   },
   "file_extension": ".py",
   "mimetype": "text/x-python",
   "name": "python",
   "nbconvert_exporter": "python",
   "pygments_lexer": "ipython3",
   "version": "3.7.4"
  }
 },
 "nbformat": 4,
 "nbformat_minor": 2
}
