{
 "cells": [
  {
   "cell_type": "code",
   "execution_count": null,
   "metadata": {},
   "outputs": [],
   "source": []
  },
  {
   "cell_type": "code",
   "execution_count": 17,
   "metadata": {},
   "outputs": [],
   "source": [
    "import numpy as np\n",
    "import pandas as pd\n",
    "from sklearn.model_selection import train_test_split\n",
    "import numpy as np\n",
    "import pydot\n",
    "from io import StringIO\n",
    "from sklearn.tree import export_graphviz\n",
    "from sklearn.preprocessing import MinMaxScaler\n",
    "from sklearn.preprocessing import StandardScaler"
   ]
  },
  {
   "cell_type": "markdown",
   "metadata": {},
   "source": [
    "## For standardization: \n",
    "Depending on the task objetives. For example; for neural networks is recommended normalization Min max for activation functions. To avoid saturation Basheer & Najmeer (2000) recommend the range 0.1 and 0.9."
   ]
  },
  {
   "cell_type": "markdown",
   "metadata": {},
   "source": [
    "# Prep Model"
   ]
  },
  {
   "cell_type": "code",
   "execution_count": 18,
   "metadata": {},
   "outputs": [],
   "source": [
    "def getfile():\n",
    "    df=pd.read_csv(r'D3.csv')\n",
    "    a=10.986409919681789\n",
    "    b=171.91508511054587\n",
    "    df['height']=df['height']*a+b       \n",
    "    return df"
   ]
  },
  {
   "cell_type": "code",
   "execution_count": 19,
   "metadata": {},
   "outputs": [],
   "source": [
    "def data_d3(): \n",
    "    df = getfile()\n",
    "    df['height']=df.height.round()\n",
    "    df['contacts_count']=df.contacts_count.round()\n",
    "    #Height is Z-score Normalized  => need to change => reverse Z-score and convert to int32\n",
    "    # contacts_count in assessment 1 have been imputed with MEAN => round it into int32\n",
    "    mapping = {'yes':1, 'no':0, 'blank':np.nan}\n",
    "    df['insurance']=df.insurance.map(mapping)\n",
    "    df['insurance'].fillna(df['insurance'].mode()[0], inplace=True)\n",
    "    secmap={'native':1,'immigrant':0, 'blank':np.nan}\n",
    "    df['immigrant']=df.immigrant.map(secmap)\n",
    "    df['immigrant'].fillna(df['immigrant'].mode()[0], inplace=True)\n",
    "    #Convert data type: \n",
    "    convert_dict = {'contacts_count':int, 'height': int,'worried': int, 'immigrant':bool,'insurance':bool,'covid19_positive':bool,'covid19_symptoms':bool,'covid19_contact':bool,'asthma':bool,'kidney_disease':bool,'liver_disease':bool,'compromised_immune':bool,'heart_disease':bool,'lung_disease':bool,'diabetes':bool,'hiv_positive':bool,'hypertension':bool,'other_chronic':bool,'nursing_home':bool,'health_worker':bool}\n",
    "    df = df.astype(convert_dict) \n",
    "\n",
    "    df = pd.get_dummies(df)\n",
    "    y = df['covid19_positive']\n",
    "    X = df.drop(['covid19_positive'], axis=1)\n",
    "    \n",
    "    \n",
    "    # setting random state\n",
    "    rs = 42\n",
    "\n",
    "    X_mat = X.to_numpy()\n",
    "    X_train, X_test, y_train, y_test = train_test_split(X_mat, y, test_size=0.29, stratify=y, random_state=rs)\n",
    "\n",
    "    return df,X,y,X_train, X_test, y_train, y_test"
   ]
  },
  {
   "cell_type": "code",
   "execution_count": 20,
   "metadata": {},
   "outputs": [
    {
     "name": "stdout",
     "output_type": "stream",
     "text": [
      "<class 'pandas.core.frame.DataFrame'>\n",
      "RangeIndex: 5111 entries, 0 to 5110\n",
      "Data columns (total 33 columns):\n",
      "region                    5111 non-null object\n",
      "country                   5111 non-null object\n",
      "sex                       5111 non-null object\n",
      "age                       5111 non-null object\n",
      "height                    5111 non-null float64\n",
      "weight                    5111 non-null int64\n",
      "blood_type                5111 non-null object\n",
      "insurance                 5111 non-null object\n",
      "income                    5111 non-null object\n",
      "race                      5111 non-null object\n",
      "immigrant                 5111 non-null object\n",
      "smoking                   5111 non-null object\n",
      "contacts_count            5111 non-null float64\n",
      "house_count               5111 non-null int64\n",
      "public_transport_count    5111 non-null int64\n",
      "working                   5111 non-null object\n",
      "worried                   5111 non-null int64\n",
      "covid19_positive          5111 non-null int64\n",
      "covid19_symptoms          5111 non-null int64\n",
      "covid19_contact           5111 non-null int64\n",
      "asthma                    5111 non-null int64\n",
      "kidney_disease            5111 non-null int64\n",
      "liver_disease             5111 non-null int64\n",
      "compromised_immune        5111 non-null int64\n",
      "heart_disease             5111 non-null int64\n",
      "lung_disease              5111 non-null int64\n",
      "diabetes                  5111 non-null int64\n",
      "hiv_positive              5111 non-null int64\n",
      "hypertension              5111 non-null int64\n",
      "other_chronic             5111 non-null int64\n",
      "nursing_home              5111 non-null int64\n",
      "health_worker             5111 non-null int64\n",
      "risk_mortality            5111 non-null float64\n",
      "dtypes: float64(3), int64(19), object(11)\n",
      "memory usage: 1.3+ MB\n"
     ]
    }
   ],
   "source": [
    "df=getfile()\n",
    "df.info()"
   ]
  },
  {
   "cell_type": "code",
   "execution_count": 19,
   "metadata": {},
   "outputs": [],
   "source": [
    "# For Regression: \n",
    "def analyse_feature_importance(dm_model, feature_names, n_to_display=20):\n",
    "    # grab feature importances from the model\n",
    "    importances = dm_model.feature_importances_\n",
    "    \n",
    "    # sort them out in descending order\n",
    "    indices = np.argsort(importances)\n",
    "    indices = np.flip(indices, axis=0)\n",
    "\n",
    "    # limit to 20 features, you can leave this out to print out everything\n",
    "    indices = indices[:n_to_display]\n",
    "\n",
    "    for i in indices:\n",
    "        print(feature_names[i], ':', importances[i])"
   ]
  },
  {
   "cell_type": "code",
   "execution_count": 20,
   "metadata": {},
   "outputs": [],
   "source": [
    "# Decision Tree \n",
    "def visualize_decision_tree(dm_model, feature_names, save_name):\n",
    "    dotfile = StringIO()\n",
    "    export_graphviz(dm_model, out_file=dotfile, feature_names=feature_names)\n",
    "    graph = pydot.graph_from_dot_data(dotfile.getvalue())\n",
    "    graph[0].write_png(save_name) # saved in the following file"
   ]
  },
  {
   "cell_type": "code",
   "execution_count": null,
   "metadata": {},
   "outputs": [],
   "source": []
  },
  {
   "cell_type": "code",
   "execution_count": 21,
   "metadata": {},
   "outputs": [],
   "source": [
    "df,X,y,X_train, X_test, y_train, y_test = data_d3()"
   ]
  },
  {
   "cell_type": "code",
   "execution_count": 23,
   "metadata": {},
   "outputs": [
    {
     "name": "stdout",
     "output_type": "stream",
     "text": [
      "<class 'pandas.core.frame.DataFrame'>\n",
      "RangeIndex: 5111 entries, 0 to 5110\n",
      "Columns: 167 entries, height to working_travel non critical\n",
      "dtypes: bool(17), float64(1), int32(3), int64(3), uint8(143)\n",
      "memory usage: 1018.3 KB\n"
     ]
    }
   ],
   "source": [
    "df.info()"
   ]
  },
  {
   "cell_type": "code",
   "execution_count": null,
   "metadata": {},
   "outputs": [],
   "source": []
  },
  {
   "cell_type": "code",
   "execution_count": 4,
   "metadata": {},
   "outputs": [],
   "source": [
    "df=pd.read_csv(r'D3.csv')"
   ]
  },
  {
   "cell_type": "code",
   "execution_count": 5,
   "metadata": {},
   "outputs": [
    {
     "data": {
      "text/plain": [
       "array(['yes', 'no', 'blank'], dtype=object)"
      ]
     },
     "execution_count": 5,
     "metadata": {},
     "output_type": "execute_result"
    }
   ],
   "source": [
    "df.insurance.unique()"
   ]
  },
  {
   "cell_type": "code",
   "execution_count": 16,
   "metadata": {},
   "outputs": [],
   "source": [
    "df['asthma']=df.asthma.astype('bool')"
   ]
  },
  {
   "cell_type": "code",
   "execution_count": 6,
   "metadata": {},
   "outputs": [
    {
     "data": {
      "text/plain": [
       "array(['yes', 'no', 'blank'], dtype=object)"
      ]
     },
     "execution_count": 6,
     "metadata": {},
     "output_type": "execute_result"
    }
   ],
   "source": [
    "df.insurance.unique()"
   ]
  },
  {
   "cell_type": "code",
   "execution_count": 13,
   "metadata": {},
   "outputs": [
    {
     "data": {
      "text/plain": [
       "1.0    4561\n",
       "0.0     550\n",
       "Name: insurance, dtype: int64"
      ]
     },
     "execution_count": 13,
     "metadata": {},
     "output_type": "execute_result"
    }
   ],
   "source": [
    "df.insurance.value_counts()"
   ]
  },
  {
   "cell_type": "code",
   "execution_count": 8,
   "metadata": {},
   "outputs": [
    {
     "name": "stdout",
     "output_type": "stream",
     "text": [
      "<class 'pandas.core.frame.DataFrame'>\n",
      "RangeIndex: 5111 entries, 0 to 5110\n",
      "Data columns (total 33 columns):\n",
      "region                    5111 non-null object\n",
      "country                   5111 non-null object\n",
      "sex                       5111 non-null object\n",
      "age                       5111 non-null object\n",
      "height                    5111 non-null float64\n",
      "weight                    5111 non-null int64\n",
      "blood_type                5111 non-null object\n",
      "insurance                 5111 non-null object\n",
      "income                    5111 non-null object\n",
      "race                      5111 non-null object\n",
      "immigrant                 5111 non-null object\n",
      "smoking                   5111 non-null object\n",
      "contacts_count            5111 non-null float64\n",
      "house_count               5111 non-null int64\n",
      "public_transport_count    5111 non-null int64\n",
      "working                   5111 non-null object\n",
      "worried                   5111 non-null int64\n",
      "covid19_positive          5111 non-null int64\n",
      "covid19_symptoms          5111 non-null int64\n",
      "covid19_contact           5111 non-null int64\n",
      "asthma                    5111 non-null int64\n",
      "kidney_disease            5111 non-null int64\n",
      "liver_disease             5111 non-null int64\n",
      "compromised_immune        5111 non-null int64\n",
      "heart_disease             5111 non-null int64\n",
      "lung_disease              5111 non-null int64\n",
      "diabetes                  5111 non-null int64\n",
      "hiv_positive              5111 non-null int64\n",
      "hypertension              5111 non-null int64\n",
      "other_chronic             5111 non-null int64\n",
      "nursing_home              5111 non-null int64\n",
      "health_worker             5111 non-null int64\n",
      "risk_mortality            5111 non-null float64\n",
      "dtypes: float64(3), int64(19), object(11)\n",
      "memory usage: 1.3+ MB\n"
     ]
    }
   ],
   "source": [
    "df.info()"
   ]
  },
  {
   "cell_type": "code",
   "execution_count": 11,
   "metadata": {},
   "outputs": [
    {
     "data": {
      "text/plain": [
       "1.0    4589\n",
       "0.0     522\n",
       "Name: immigrant, dtype: int64"
      ]
     },
     "execution_count": 11,
     "metadata": {},
     "output_type": "execute_result"
    }
   ],
   "source": [
    "df.immigrant.value_counts()"
   ]
  },
  {
   "cell_type": "code",
   "execution_count": 10,
   "metadata": {},
   "outputs": [],
   "source": [
    "secmap={'native':1,'immigrant':0, 'blank':np.nan}\n",
    "df['immigrant']=df.immigrant.map(secmap)\n",
    "df['immigrant'].fillna(df['immigrant'].mode()[0], inplace=True)"
   ]
  },
  {
   "cell_type": "code",
   "execution_count": 14,
   "metadata": {},
   "outputs": [
    {
     "data": {
      "text/plain": [
       "0"
      ]
     },
     "execution_count": 14,
     "metadata": {},
     "output_type": "execute_result"
    }
   ],
   "source": [
    "df.insurance.isnull().sum()"
   ]
  },
  {
   "cell_type": "code",
   "execution_count": 18,
   "metadata": {},
   "outputs": [
    {
     "data": {
      "text/html": [
       "<div>\n",
       "<style scoped>\n",
       "    .dataframe tbody tr th:only-of-type {\n",
       "        vertical-align: middle;\n",
       "    }\n",
       "\n",
       "    .dataframe tbody tr th {\n",
       "        vertical-align: top;\n",
       "    }\n",
       "\n",
       "    .dataframe thead th {\n",
       "        text-align: right;\n",
       "    }\n",
       "</style>\n",
       "<table border=\"1\" class=\"dataframe\">\n",
       "  <thead>\n",
       "    <tr style=\"text-align: right;\">\n",
       "      <th></th>\n",
       "      <th>region</th>\n",
       "      <th>country</th>\n",
       "      <th>sex</th>\n",
       "      <th>age</th>\n",
       "      <th>height</th>\n",
       "      <th>weight</th>\n",
       "      <th>blood_type</th>\n",
       "      <th>insurance</th>\n",
       "      <th>income</th>\n",
       "      <th>race</th>\n",
       "      <th>...</th>\n",
       "      <th>compromised_immune</th>\n",
       "      <th>heart_disease</th>\n",
       "      <th>lung_disease</th>\n",
       "      <th>diabetes</th>\n",
       "      <th>hiv_positive</th>\n",
       "      <th>hypertension</th>\n",
       "      <th>other_chronic</th>\n",
       "      <th>nursing_home</th>\n",
       "      <th>health_worker</th>\n",
       "      <th>risk_mortality</th>\n",
       "    </tr>\n",
       "  </thead>\n",
       "  <tbody>\n",
       "    <tr>\n",
       "      <td>0</td>\n",
       "      <td>AM</td>\n",
       "      <td>US</td>\n",
       "      <td>male</td>\n",
       "      <td>50_60</td>\n",
       "      <td>1.100095</td>\n",
       "      <td>80</td>\n",
       "      <td>ap</td>\n",
       "      <td>NaN</td>\n",
       "      <td>med</td>\n",
       "      <td>white</td>\n",
       "      <td>...</td>\n",
       "      <td>0</td>\n",
       "      <td>0</td>\n",
       "      <td>0</td>\n",
       "      <td>0</td>\n",
       "      <td>0</td>\n",
       "      <td>0</td>\n",
       "      <td>0</td>\n",
       "      <td>0</td>\n",
       "      <td>0</td>\n",
       "      <td>0.194</td>\n",
       "    </tr>\n",
       "    <tr>\n",
       "      <td>1</td>\n",
       "      <td>EU</td>\n",
       "      <td>NL</td>\n",
       "      <td>female</td>\n",
       "      <td>80_90</td>\n",
       "      <td>-0.720514</td>\n",
       "      <td>84</td>\n",
       "      <td>ap</td>\n",
       "      <td>NaN</td>\n",
       "      <td>med</td>\n",
       "      <td>white</td>\n",
       "      <td>...</td>\n",
       "      <td>0</td>\n",
       "      <td>0</td>\n",
       "      <td>0</td>\n",
       "      <td>0</td>\n",
       "      <td>0</td>\n",
       "      <td>1</td>\n",
       "      <td>0</td>\n",
       "      <td>0</td>\n",
       "      <td>0</td>\n",
       "      <td>3.483</td>\n",
       "    </tr>\n",
       "    <tr>\n",
       "      <td>2</td>\n",
       "      <td>SA</td>\n",
       "      <td>BR</td>\n",
       "      <td>female</td>\n",
       "      <td>20_30</td>\n",
       "      <td>-0.174331</td>\n",
       "      <td>64</td>\n",
       "      <td>ap</td>\n",
       "      <td>NaN</td>\n",
       "      <td>med</td>\n",
       "      <td>white</td>\n",
       "      <td>...</td>\n",
       "      <td>0</td>\n",
       "      <td>0</td>\n",
       "      <td>0</td>\n",
       "      <td>0</td>\n",
       "      <td>0</td>\n",
       "      <td>0</td>\n",
       "      <td>0</td>\n",
       "      <td>0</td>\n",
       "      <td>0</td>\n",
       "      <td>0.050</td>\n",
       "    </tr>\n",
       "    <tr>\n",
       "      <td>3</td>\n",
       "      <td>EU</td>\n",
       "      <td>CH</td>\n",
       "      <td>male</td>\n",
       "      <td>90_100</td>\n",
       "      <td>-3.633488</td>\n",
       "      <td>124</td>\n",
       "      <td>op</td>\n",
       "      <td>NaN</td>\n",
       "      <td>med</td>\n",
       "      <td>white</td>\n",
       "      <td>...</td>\n",
       "      <td>0</td>\n",
       "      <td>0</td>\n",
       "      <td>0</td>\n",
       "      <td>0</td>\n",
       "      <td>1</td>\n",
       "      <td>0</td>\n",
       "      <td>0</td>\n",
       "      <td>0</td>\n",
       "      <td>0</td>\n",
       "      <td>13.973</td>\n",
       "    </tr>\n",
       "    <tr>\n",
       "      <td>4</td>\n",
       "      <td>AM</td>\n",
       "      <td>US</td>\n",
       "      <td>male</td>\n",
       "      <td>30_40</td>\n",
       "      <td>1.100095</td>\n",
       "      <td>118</td>\n",
       "      <td>op</td>\n",
       "      <td>NaN</td>\n",
       "      <td>med</td>\n",
       "      <td>white</td>\n",
       "      <td>...</td>\n",
       "      <td>0</td>\n",
       "      <td>0</td>\n",
       "      <td>0</td>\n",
       "      <td>1</td>\n",
       "      <td>0</td>\n",
       "      <td>1</td>\n",
       "      <td>1</td>\n",
       "      <td>0</td>\n",
       "      <td>0</td>\n",
       "      <td>0.116</td>\n",
       "    </tr>\n",
       "    <tr>\n",
       "      <td>...</td>\n",
       "      <td>...</td>\n",
       "      <td>...</td>\n",
       "      <td>...</td>\n",
       "      <td>...</td>\n",
       "      <td>...</td>\n",
       "      <td>...</td>\n",
       "      <td>...</td>\n",
       "      <td>...</td>\n",
       "      <td>...</td>\n",
       "      <td>...</td>\n",
       "      <td>...</td>\n",
       "      <td>...</td>\n",
       "      <td>...</td>\n",
       "      <td>...</td>\n",
       "      <td>...</td>\n",
       "      <td>...</td>\n",
       "      <td>...</td>\n",
       "      <td>...</td>\n",
       "      <td>...</td>\n",
       "      <td>...</td>\n",
       "      <td>...</td>\n",
       "    </tr>\n",
       "    <tr>\n",
       "      <td>5106</td>\n",
       "      <td>AM</td>\n",
       "      <td>US</td>\n",
       "      <td>female</td>\n",
       "      <td>70_80</td>\n",
       "      <td>-0.538453</td>\n",
       "      <td>66</td>\n",
       "      <td>op</td>\n",
       "      <td>NaN</td>\n",
       "      <td>high</td>\n",
       "      <td>white</td>\n",
       "      <td>...</td>\n",
       "      <td>0</td>\n",
       "      <td>0</td>\n",
       "      <td>0</td>\n",
       "      <td>0</td>\n",
       "      <td>0</td>\n",
       "      <td>0</td>\n",
       "      <td>0</td>\n",
       "      <td>0</td>\n",
       "      <td>0</td>\n",
       "      <td>1.496</td>\n",
       "    </tr>\n",
       "    <tr>\n",
       "      <td>5107</td>\n",
       "      <td>AM</td>\n",
       "      <td>CA</td>\n",
       "      <td>male</td>\n",
       "      <td>70_80</td>\n",
       "      <td>-0.356392</td>\n",
       "      <td>70</td>\n",
       "      <td>bp</td>\n",
       "      <td>NaN</td>\n",
       "      <td>med</td>\n",
       "      <td>asian</td>\n",
       "      <td>...</td>\n",
       "      <td>0</td>\n",
       "      <td>0</td>\n",
       "      <td>0</td>\n",
       "      <td>0</td>\n",
       "      <td>0</td>\n",
       "      <td>0</td>\n",
       "      <td>0</td>\n",
       "      <td>0</td>\n",
       "      <td>0</td>\n",
       "      <td>3.510</td>\n",
       "    </tr>\n",
       "    <tr>\n",
       "      <td>5108</td>\n",
       "      <td>AM</td>\n",
       "      <td>US</td>\n",
       "      <td>male</td>\n",
       "      <td>70_80</td>\n",
       "      <td>0.918034</td>\n",
       "      <td>82</td>\n",
       "      <td>op</td>\n",
       "      <td>NaN</td>\n",
       "      <td>high</td>\n",
       "      <td>white</td>\n",
       "      <td>...</td>\n",
       "      <td>0</td>\n",
       "      <td>0</td>\n",
       "      <td>0</td>\n",
       "      <td>0</td>\n",
       "      <td>0</td>\n",
       "      <td>1</td>\n",
       "      <td>0</td>\n",
       "      <td>0</td>\n",
       "      <td>0</td>\n",
       "      <td>2.171</td>\n",
       "    </tr>\n",
       "    <tr>\n",
       "      <td>5109</td>\n",
       "      <td>AM</td>\n",
       "      <td>US</td>\n",
       "      <td>male</td>\n",
       "      <td>50_60</td>\n",
       "      <td>1.100095</td>\n",
       "      <td>80</td>\n",
       "      <td>ap</td>\n",
       "      <td>NaN</td>\n",
       "      <td>high</td>\n",
       "      <td>white</td>\n",
       "      <td>...</td>\n",
       "      <td>0</td>\n",
       "      <td>0</td>\n",
       "      <td>0</td>\n",
       "      <td>0</td>\n",
       "      <td>0</td>\n",
       "      <td>0</td>\n",
       "      <td>0</td>\n",
       "      <td>0</td>\n",
       "      <td>0</td>\n",
       "      <td>0.557</td>\n",
       "    </tr>\n",
       "    <tr>\n",
       "      <td>5110</td>\n",
       "      <td>AM</td>\n",
       "      <td>US</td>\n",
       "      <td>female</td>\n",
       "      <td>30_40</td>\n",
       "      <td>0.007730</td>\n",
       "      <td>66</td>\n",
       "      <td>ap</td>\n",
       "      <td>NaN</td>\n",
       "      <td>med</td>\n",
       "      <td>white</td>\n",
       "      <td>...</td>\n",
       "      <td>0</td>\n",
       "      <td>0</td>\n",
       "      <td>0</td>\n",
       "      <td>0</td>\n",
       "      <td>0</td>\n",
       "      <td>0</td>\n",
       "      <td>0</td>\n",
       "      <td>0</td>\n",
       "      <td>0</td>\n",
       "      <td>0.050</td>\n",
       "    </tr>\n",
       "  </tbody>\n",
       "</table>\n",
       "<p>5111 rows × 33 columns</p>\n",
       "</div>"
      ],
      "text/plain": [
       "     region country     sex     age    height  weight blood_type  insurance  \\\n",
       "0        AM      US    male   50_60  1.100095      80         ap        NaN   \n",
       "1        EU      NL  female   80_90 -0.720514      84         ap        NaN   \n",
       "2        SA      BR  female   20_30 -0.174331      64         ap        NaN   \n",
       "3        EU      CH    male  90_100 -3.633488     124         op        NaN   \n",
       "4        AM      US    male   30_40  1.100095     118         op        NaN   \n",
       "...     ...     ...     ...     ...       ...     ...        ...        ...   \n",
       "5106     AM      US  female   70_80 -0.538453      66         op        NaN   \n",
       "5107     AM      CA    male   70_80 -0.356392      70         bp        NaN   \n",
       "5108     AM      US    male   70_80  0.918034      82         op        NaN   \n",
       "5109     AM      US    male   50_60  1.100095      80         ap        NaN   \n",
       "5110     AM      US  female   30_40  0.007730      66         ap        NaN   \n",
       "\n",
       "     income   race  ...  compromised_immune heart_disease  lung_disease  \\\n",
       "0       med  white  ...                   0             0             0   \n",
       "1       med  white  ...                   0             0             0   \n",
       "2       med  white  ...                   0             0             0   \n",
       "3       med  white  ...                   0             0             0   \n",
       "4       med  white  ...                   0             0             0   \n",
       "...     ...    ...  ...                 ...           ...           ...   \n",
       "5106   high  white  ...                   0             0             0   \n",
       "5107    med  asian  ...                   0             0             0   \n",
       "5108   high  white  ...                   0             0             0   \n",
       "5109   high  white  ...                   0             0             0   \n",
       "5110    med  white  ...                   0             0             0   \n",
       "\n",
       "      diabetes  hiv_positive hypertension  other_chronic  nursing_home  \\\n",
       "0            0             0            0              0             0   \n",
       "1            0             0            1              0             0   \n",
       "2            0             0            0              0             0   \n",
       "3            0             1            0              0             0   \n",
       "4            1             0            1              1             0   \n",
       "...        ...           ...          ...            ...           ...   \n",
       "5106         0             0            0              0             0   \n",
       "5107         0             0            0              0             0   \n",
       "5108         0             0            1              0             0   \n",
       "5109         0             0            0              0             0   \n",
       "5110         0             0            0              0             0   \n",
       "\n",
       "      health_worker  risk_mortality  \n",
       "0                 0           0.194  \n",
       "1                 0           3.483  \n",
       "2                 0           0.050  \n",
       "3                 0          13.973  \n",
       "4                 0           0.116  \n",
       "...             ...             ...  \n",
       "5106              0           1.496  \n",
       "5107              0           3.510  \n",
       "5108              0           2.171  \n",
       "5109              0           0.557  \n",
       "5110              0           0.050  \n",
       "\n",
       "[5111 rows x 33 columns]"
      ]
     },
     "execution_count": 18,
     "metadata": {},
     "output_type": "execute_result"
    }
   ],
   "source": [
    "df"
   ]
  },
  {
   "cell_type": "code",
   "execution_count": 21,
   "metadata": {},
   "outputs": [
    {
     "data": {
      "text/plain": [
       "array([nan])"
      ]
     },
     "execution_count": 21,
     "metadata": {},
     "output_type": "execute_result"
    }
   ],
   "source": [
    "df.insurance.unique()"
   ]
  },
  {
   "cell_type": "code",
   "execution_count": 22,
   "metadata": {},
   "outputs": [
    {
     "data": {
      "text/plain": [
       "array([1., 0.])"
      ]
     },
     "execution_count": 22,
     "metadata": {},
     "output_type": "execute_result"
    }
   ],
   "source": [
    "df.immigrant.unique()"
   ]
  },
  {
   "cell_type": "code",
   "execution_count": 12,
   "metadata": {},
   "outputs": [],
   "source": [
    "mapping = {'yes':1, 'no':0, 'blank':np.nan}\n",
    "df['insurance']=df.insurance.map(mapping)\n",
    "df['insurance'].fillna(df['insurance'].mode()[0], inplace=True)"
   ]
  },
  {
   "cell_type": "code",
   "execution_count": null,
   "metadata": {},
   "outputs": [],
   "source": []
  }
 ],
 "metadata": {
  "kernelspec": {
   "display_name": "Python 3",
   "language": "python",
   "name": "python3"
  },
  "language_info": {
   "codemirror_mode": {
    "name": "ipython",
    "version": 3
   },
   "file_extension": ".py",
   "mimetype": "text/x-python",
   "name": "python",
   "nbconvert_exporter": "python",
   "pygments_lexer": "ipython3",
   "version": "3.7.4"
  }
 },
 "nbformat": 4,
 "nbformat_minor": 2
}
