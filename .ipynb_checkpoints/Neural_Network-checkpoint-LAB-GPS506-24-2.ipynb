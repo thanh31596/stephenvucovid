{
 "cells": [
  {
   "cell_type": "markdown",
   "metadata": {},
   "source": [
    "# <font color=red> Neural Networks </font>"
   ]
  },
  {
   "cell_type": "code",
   "execution_count": 32,
   "metadata": {},
   "outputs": [],
   "source": [
    "import pandas as pd \n",
    "import numpy as np \n",
    "from stephentools import get_file\n",
    "from stephentools import data_d3\n",
    "from stephentools import analyse_feature_importance\n",
    "from stephentools import visualize_decision_tree\n",
    "from sklearn.metrics import r2_score\n",
    "import warnings\n",
    "warnings.filterwarnings(\"ignore\")\n",
    "from sklearn.neural_network import MLPClassifier\n",
    "from sklearn.metrics import classification_report, accuracy_score\n",
    "from sklearn.model_selection import GridSearchCV\n",
    "from sklearn.preprocessing import StandardScaler\n",
    "from sklearn.metrics import roc_auc_score\n",
    "\n",
    "from sklearn.metrics import roc_curve"
   ]
  },
  {
   "cell_type": "code",
   "execution_count": 3,
   "metadata": {},
   "outputs": [],
   "source": [
    "df = get_file()\n",
    "df,X,y,X_train, X_test, y_train, y_test=data_d3()\n",
    "rs=42"
   ]
  },
  {
   "cell_type": "markdown",
   "metadata": {},
   "source": [
    "## Build a Neural Network model using the default setting. Answer the following: "
   ]
  },
  {
   "cell_type": "markdown",
   "metadata": {},
   "source": [
    "### a. Explain the parameters in the model: Network architecture, iterations, activation functions..."
   ]
  },
  {
   "cell_type": "code",
   "execution_count": 13,
   "metadata": {},
   "outputs": [
    {
     "name": "stdout",
     "output_type": "stream",
     "text": [
      "Train accuracy: 0.8561190738699008\n",
      "Test accuracy: 0.7970330411328388\n",
      "              precision    recall  f1-score   support\n",
      "\n",
      "       False       0.85      0.82      0.84       940\n",
      "        True       0.71      0.75      0.73       543\n",
      "\n",
      "    accuracy                           0.80      1483\n",
      "   macro avg       0.78      0.79      0.78      1483\n",
      "weighted avg       0.80      0.80      0.80      1483\n",
      "\n",
      "MLPClassifier(activation='relu', alpha=0.0001, batch_size='auto', beta_1=0.9,\n",
      "              beta_2=0.999, early_stopping=False, epsilon=1e-08,\n",
      "              hidden_layer_sizes=(100,), learning_rate='constant',\n",
      "              learning_rate_init=0.001, max_iter=200, momentum=0.9,\n",
      "              n_iter_no_change=10, nesterovs_momentum=True, power_t=0.5,\n",
      "              random_state=42, shuffle=True, solver='adam', tol=0.0001,\n",
      "              validation_fraction=0.1, verbose=False, warm_start=False)\n"
     ]
    }
   ],
   "source": [
    "model_1 = MLPClassifier(random_state=rs)\n",
    "model_1.fit(X_train, y_train)\n",
    "\n",
    "print(\"Train accuracy:\", model_1.score(X_train, y_train))\n",
    "print(\"Test accuracy:\", model_1.score(X_test, y_test))\n",
    "\n",
    "y_pred = model_1.predict(X_test)\n",
    "print(classification_report(y_test, y_pred))\n",
    "\n",
    "print(model_1)"
   ]
  },
  {
   "cell_type": "code",
   "execution_count": 40,
   "metadata": {},
   "outputs": [
    {
     "data": {
      "text/plain": [
       "array([ True,  True, False, ..., False, False,  True])"
      ]
     },
     "execution_count": 40,
     "metadata": {},
     "output_type": "execute_result"
    }
   ],
   "source": [
    "y_pred"
   ]
  },
  {
   "cell_type": "markdown",
   "metadata": {},
   "source": [
    "# Fine Tune Model"
   ]
  },
  {
   "cell_type": "code",
   "execution_count": 5,
   "metadata": {},
   "outputs": [
    {
     "name": "stdout",
     "output_type": "stream",
     "text": [
      "(3628, 166)\n"
     ]
    }
   ],
   "source": [
    "print(X_train.shape)"
   ]
  },
  {
   "cell_type": "markdown",
   "metadata": {},
   "source": [
    "## <font color='red'>Model 1<font/>"
   ]
  },
  {
   "cell_type": "code",
   "execution_count": 47,
   "metadata": {},
   "outputs": [
    {
     "data": {
      "text/plain": [
       "GridSearchCV(cv=10, error_score='raise-deprecating',\n",
       "             estimator=MLPClassifier(activation='relu', alpha=0.0001,\n",
       "                                     batch_size='auto', beta_1=0.9,\n",
       "                                     beta_2=0.999, early_stopping=False,\n",
       "                                     epsilon=1e-08, hidden_layer_sizes=(100,),\n",
       "                                     learning_rate='constant',\n",
       "                                     learning_rate_init=0.001, max_iter=200,\n",
       "                                     momentum=0.9, n_iter_no_change=10,\n",
       "                                     nesterovs_momentum=True, power_t=0.5,\n",
       "                                     random_state=42, shuffle=True,\n",
       "                                     solver='adam', tol=0.0001,\n",
       "                                     validation_fraction=0.1, verbose=False,\n",
       "                                     warm_start=False),\n",
       "             iid='warn', n_jobs=-1,\n",
       "             param_grid={'activation': ['tanh'],\n",
       "                         'hidden_layer_sizes': [(100,), (120,), (140,), (160,),\n",
       "                                                (180,)],\n",
       "                         'learning_rate': ['adaptive'], 'solver': ['lbfgs']},\n",
       "             pre_dispatch='2*n_jobs', refit=True, return_train_score=True,\n",
       "             scoring=None, verbose=0)"
      ]
     },
     "execution_count": 47,
     "metadata": {},
     "output_type": "execute_result"
    }
   ],
   "source": [
    "params = {'hidden_layer_sizes': [(x,) for x in range(100, 200, 20)],'activation':['tanh'],'solver':['lbfgs'],'learning_rate':['adaptive']}\n",
    "\n",
    "cv_1 = GridSearchCV(param_grid=params, estimator=MLPClassifier(random_state=rs),return_train_score=True, cv=10, n_jobs=-1)\n",
    "cv_1.fit(X_train, y_train)"
   ]
  },
  {
   "cell_type": "code",
   "execution_count": 48,
   "metadata": {},
   "outputs": [],
   "source": [
    "result_set = cv_1.cv_results_\n"
   ]
  },
  {
   "cell_type": "code",
   "execution_count": 49,
   "metadata": {},
   "outputs": [
    {
     "name": "stdout",
     "output_type": "stream",
     "text": [
      "Train accuracy: 0.7894156560088202\n",
      "Test accuracy: 0.7916385704652731\n",
      "              precision    recall  f1-score   support\n",
      "\n",
      "       False       0.79      0.91      0.85       940\n",
      "        True       0.79      0.59      0.68       543\n",
      "\n",
      "    accuracy                           0.79      1483\n",
      "   macro avg       0.79      0.75      0.76      1483\n",
      "weighted avg       0.79      0.79      0.78      1483\n",
      "\n",
      "{'activation': 'tanh', 'hidden_layer_sizes': (120,), 'learning_rate': 'adaptive', 'solver': 'lbfgs'}\n"
     ]
    }
   ],
   "source": [
    "print(\"Train accuracy:\", cv_1.score(X_train, y_train))\n",
    "print(\"Test accuracy:\", cv_1.score(X_test, y_test))\n",
    "\n",
    "y_pred = cv_1.predict(X_test)\n",
    "print(classification_report(y_test, y_pred))\n",
    "\n",
    "print(cv_1.best_params_)"
   ]
  },
  {
   "cell_type": "code",
   "execution_count": 19,
   "metadata": {},
   "outputs": [
    {
     "name": "stdout",
     "output_type": "stream",
     "text": [
      "Total number of models:  5\n"
     ]
    },
    {
     "data": {
      "text/plain": [
       "<Figure size 640x480 with 1 Axes>"
      ]
     },
     "metadata": {},
     "output_type": "display_data"
    }
   ],
   "source": [
    "import matplotlib.pyplot as plt\n",
    "train_result = result_set['split0_train_score']\n",
    "test_result = result_set['split0_test_score']\n",
    "print(\"Total number of models: \", len(test_result))\n",
    "# plot hidden layers hyperparameter values vs training and test accuracy score\n",
    "plt.plot(range(0, len(train_result)), train_result, 'b', range(0,len(test_result)), test_result, 'r')\n",
    "plt.xlabel('Hyperparameter Hidden_layers\\nBlue = training acc. Red = test acc.')\n",
    "plt.title('Optimal with TANH activation method')\n",
    "plt.xticks(range(0, len(train_result)),range(5, 86, 20))\n",
    "plt.ylabel('score')\n",
    "plt.show()"
   ]
  },
  {
   "cell_type": "markdown",
   "metadata": {},
   "source": [
    "## <font color='red'>Model 2<font/>"
   ]
  },
  {
   "cell_type": "code",
   "execution_count": 20,
   "metadata": {},
   "outputs": [
    {
     "name": "stdout",
     "output_type": "stream",
     "text": [
      "Train accuracy: 0.8497794928335171\n",
      "Test accuracy: 0.7835468644639245\n",
      "              precision    recall  f1-score   support\n",
      "\n",
      "       False       0.84      0.81      0.83       940\n",
      "        True       0.69      0.73      0.71       543\n",
      "\n",
      "    accuracy                           0.78      1483\n",
      "   macro avg       0.77      0.77      0.77      1483\n",
      "weighted avg       0.79      0.78      0.78      1483\n",
      "\n",
      "{'hidden_layer_sizes': (145,), 'max_iter': 700}\n"
     ]
    }
   ],
   "source": [
    "# new parameters\n",
    "params = {'hidden_layer_sizes': [(x,) for x in range(130, 160, 15)], 'max_iter':[700,800,900]}\n",
    "\n",
    "cv_2 = GridSearchCV(param_grid=params, estimator=MLPClassifier(random_state=rs), cv=10, n_jobs=-1)\n",
    "cv_2.fit(X_train, y_train)\n",
    "\n",
    "print(\"Train accuracy:\", cv_2.score(X_train, y_train))\n",
    "print(\"Test accuracy:\", cv_2.score(X_test, y_test))\n",
    "\n",
    "y_pred = cv_2.predict(X_test)\n",
    "print(classification_report(y_test, y_pred))\n",
    "\n",
    "print(cv_2.best_params_)"
   ]
  },
  {
   "cell_type": "markdown",
   "metadata": {},
   "source": [
    "## <font color='red'>Model 3<font/>"
   ]
  },
  {
   "cell_type": "code",
   "execution_count": 21,
   "metadata": {},
   "outputs": [
    {
     "name": "stdout",
     "output_type": "stream",
     "text": [
      "Train accuracy: 0.8583241455347299\n",
      "Test accuracy: 0.7909642616318274\n",
      "              precision    recall  f1-score   support\n",
      "\n",
      "       False       0.83      0.84      0.84       940\n",
      "        True       0.72      0.70      0.71       543\n",
      "\n",
      "    accuracy                           0.79      1483\n",
      "   macro avg       0.78      0.77      0.77      1483\n",
      "weighted avg       0.79      0.79      0.79      1483\n",
      "\n",
      "{'alpha': 0.001, 'hidden_layer_sizes': (145,)}\n"
     ]
    }
   ],
   "source": [
    "#3rd\n",
    "params = {'hidden_layer_sizes': [(x,) for x in range(145, 180, 20)], 'alpha': [0.01,0.001, 0.0001, 0.00001]}\n",
    "\n",
    "cv_3 = GridSearchCV(param_grid=params, estimator=MLPClassifier(random_state=rs), cv=10, n_jobs=-1)\n",
    "cv_3.fit(X_train, y_train)\n",
    "\n",
    "print(\"Train accuracy:\", cv_3.score(X_train, y_train))\n",
    "print(\"Test accuracy:\", cv_3.score(X_test, y_test))\n",
    "\n",
    "y_pred = cv_3.predict(X_test)\n",
    "print(classification_report(y_test, y_pred))\n",
    "\n",
    "print(cv_3.best_params_)"
   ]
  },
  {
   "cell_type": "markdown",
   "metadata": {},
   "source": [
    "## <font color='red'>Model 4<font/>"
   ]
  },
  {
   "cell_type": "code",
   "execution_count": 5,
   "metadata": {},
   "outputs": [],
   "source": []
  },
  {
   "cell_type": "code",
   "execution_count": 6,
   "metadata": {},
   "outputs": [],
   "source": []
  },
  {
   "cell_type": "code",
   "execution_count": null,
   "metadata": {},
   "outputs": [],
   "source": [
    "cv_4.fit(X_train, y_train)\n"
   ]
  },
  {
   "cell_type": "code",
   "execution_count": null,
   "metadata": {},
   "outputs": [],
   "source": [
    "\n",
    "print(\"Train accuracy:\", cv_4.score(X_train, y_train))\n",
    "print(\"Test accuracy:\", cv_4.score(X_test, y_test))\n",
    "\n",
    "y_pred = cv_4.predict(X_test)\n",
    "print(classification_report(y_test, y_pred))\n",
    "\n",
    "print(cv_4.best_params_)"
   ]
  },
  {
   "cell_type": "markdown",
   "metadata": {},
   "source": [
    "## <font color='red'>Model 5<font/>"
   ]
  },
  {
   "cell_type": "code",
   "execution_count": 57,
   "metadata": {},
   "outputs": [
    {
     "name": "stdout",
     "output_type": "stream",
     "text": [
      "Train accuracy: 0.8324145534729879\n",
      "Test accuracy: 0.8071476736345247\n",
      "              precision    recall  f1-score   support\n",
      "\n",
      "       False       0.81      0.90      0.86       940\n",
      "        True       0.79      0.64      0.71       543\n",
      "\n",
      "    accuracy                           0.81      1483\n",
      "   macro avg       0.80      0.77      0.78      1483\n",
      "weighted avg       0.81      0.81      0.80      1483\n",
      "\n",
      "MLPClassifier(activation='tanh', alpha=0.0001, batch_size='auto', beta_1=0.9,\n",
      "              beta_2=0.999, early_stopping=False, epsilon=1e-08,\n",
      "              hidden_layer_sizes=165, learning_rate='constant',\n",
      "              learning_rate_init=0.001, max_iter=1000, momentum=0.9,\n",
      "              n_iter_no_change=10, nesterovs_momentum=True, power_t=0.5,\n",
      "              random_state=42, shuffle=True, solver='lbfgs', tol=0.0001,\n",
      "              validation_fraction=0.1, verbose=False, warm_start=False)\n"
     ]
    }
   ],
   "source": [
    "model_5 = MLPClassifier(hidden_layer_sizes=165, max_iter=1000, solver='lbfgs', random_state=42, activation='tanh')\n",
    "model_5.fit(X_train, y_train)\n",
    "\n",
    "print(\"Train accuracy:\", model_5.score(X_train, y_train))\n",
    "print(\"Test accuracy:\", model_5.score(X_test, y_test))\n",
    "\n",
    "y_pred = model_5.predict(X_test)\n",
    "print(classification_report(y_test, y_pred))\n",
    "\n",
    "print(model_5)"
   ]
  },
  {
   "cell_type": "code",
   "execution_count": null,
   "metadata": {},
   "outputs": [],
   "source": [
    "Train accuracy: 0.8255237045203969\n",
    "Test accuracy: 0.8105192178017532"
   ]
  },
  {
   "cell_type": "code",
   "execution_count": null,
   "metadata": {},
   "outputs": [],
   "source": [
    "0.8996692392502756\n",
    "Test accuracy: 0.7997302764666218\n",
    "    iter 200 hidden 165"
   ]
  },
  {
   "cell_type": "code",
   "execution_count": null,
   "metadata": {},
   "outputs": [],
   "source": [
    "Train accuracy: 0.9807056229327453\n",
    "Test accuracy: 0.8010788941335132\n",
    "    iter 700 Hidden 165"
   ]
  },
  {
   "cell_type": "code",
   "execution_count": 27,
   "metadata": {},
   "outputs": [
    {
     "name": "stdout",
     "output_type": "stream",
     "text": [
      "Train accuracy: 0.9798787210584344\n",
      "Test accuracy: 0.7936614969656103\n",
      "              precision    recall  f1-score   support\n",
      "\n",
      "       False       0.82      0.86      0.84       940\n",
      "        True       0.74      0.68      0.71       543\n",
      "\n",
      "    accuracy                           0.79      1483\n",
      "   macro avg       0.78      0.77      0.77      1483\n",
      "weighted avg       0.79      0.79      0.79      1483\n",
      "\n",
      "MLPClassifier(activation='tanh', alpha=0.0001, batch_size='auto', beta_1=0.9,\n",
      "              beta_2=0.999, early_stopping=False, epsilon=1e-08,\n",
      "              hidden_layer_sizes=145, learning_rate='constant',\n",
      "              learning_rate_init=0.001, max_iter=700, momentum=0.9,\n",
      "              n_iter_no_change=10, nesterovs_momentum=True, power_t=0.5,\n",
      "              random_state=42, shuffle=True, solver='adam', tol=0.0001,\n",
      "              validation_fraction=0.1, verbose=False, warm_start=False)\n"
     ]
    }
   ],
   "source": [
    "model_2 = MLPClassifier(hidden_layer_sizes=145, max_iter=700, solver='adam', random_state=42, activation='tanh')\n",
    "model_2.fit(X_train, y_train)\n",
    "\n",
    "print(\"Train accuracy:\", model_2.score(X_train, y_train))\n",
    "print(\"Test accuracy:\", model_2.score(X_test, y_test))\n",
    "\n",
    "y_pred = model_2.predict(X_test)\n",
    "print(classification_report(y_test, y_pred))\n",
    "\n",
    "print(model_2)"
   ]
  },
  {
   "cell_type": "markdown",
   "metadata": {},
   "source": [
    "# Select with Decision Tree"
   ]
  },
  {
   "cell_type": "code",
   "execution_count": null,
   "metadata": {},
   "outputs": [],
   "source": []
  },
  {
   "cell_type": "code",
   "execution_count": 91,
   "metadata": {},
   "outputs": [
    {
     "name": "stdout",
     "output_type": "stream",
     "text": [
      "DecisionTreeClassifier(class_weight=None, criterion='gini', max_depth=17,\n",
      "                       max_features=None, max_leaf_nodes=None,\n",
      "                       min_impurity_decrease=0.0, min_impurity_split=None,\n",
      "                       min_samples_leaf=20, min_samples_split=2,\n",
      "                       min_weight_fraction_leaf=0.0, presort=False,\n",
      "                       random_state=42, splitter='best')\n"
     ]
    }
   ],
   "source": [
    "import pickle\n",
    "with open('DT.pickle', 'rb') as f:\n",
    "    dt_best,roc_index_dt_best, fpr_dt_best, tpr_dt_best = pickle.load(f)\n",
    "\n",
    "print(dt_best)"
   ]
  },
  {
   "cell_type": "code",
   "execution_count": 92,
   "metadata": {},
   "outputs": [
    {
     "name": "stdout",
     "output_type": "stream",
     "text": [
      "covid19_symptoms : 0.3441404242821123\n",
      "income_med : 0.18735999132581302\n",
      "worried : 0.10684367064060209\n",
      "working_travel critical : 0.05893549513836796\n",
      "health_worker : 0.029681197797928313\n",
      "house_count : 0.028700386981849273\n",
      "insurance : 0.023567387237388056\n",
      "risk_mortality : 0.022105521176654413\n",
      "race_white : 0.021172434763189578\n",
      "weight : 0.019046383166260582\n",
      "contacts_count : 0.017111972739106446\n",
      "covid19_contact : 0.01633985712469371\n",
      "height : 0.015814759630596104\n",
      "age_70_80 : 0.011635449823777757\n",
      "age_60_70 : 0.01103832427484473\n",
      "immigrant : 0.010870020919422537\n",
      "country_BR : 0.010800754351478778\n",
      "age_20_30 : 0.00917021340207108\n",
      "country_US : 0.008079498762168525\n",
      "age_40_50 : 0.0077680328706121425\n"
     ]
    }
   ],
   "source": [
    "analyse_feature_importance(dt_best, X.columns)"
   ]
  },
  {
   "cell_type": "code",
   "execution_count": 93,
   "metadata": {},
   "outputs": [
    {
     "name": "stdout",
     "output_type": "stream",
     "text": [
      "(3628, 21)\n"
     ]
    }
   ],
   "source": [
    "from sklearn.feature_selection import SelectFromModel\n",
    "\n",
    "selectmodel = SelectFromModel(dt_best, prefit=True)\n",
    "X_train_sel_model = selectmodel.transform(X_train)\n",
    "X_test_sel_model = selectmodel.transform(X_test)\n",
    "\n",
    "print(X_train_sel_model.shape)"
   ]
  },
  {
   "cell_type": "code",
   "execution_count": 94,
   "metadata": {},
   "outputs": [
    {
     "name": "stdout",
     "output_type": "stream",
     "text": [
      "Train accuracy: 0.8015435501653804\n",
      "Test accuracy: 0.7795010114632501\n",
      "              precision    recall  f1-score   support\n",
      "\n",
      "       False       0.81      0.85      0.83       940\n",
      "        True       0.72      0.66      0.69       543\n",
      "\n",
      "    accuracy                           0.78      1483\n",
      "   macro avg       0.76      0.75      0.76      1483\n",
      "weighted avg       0.78      0.78      0.78      1483\n",
      "\n",
      "{'alpha': 0.0001, 'hidden_layer_sizes': 165}\n"
     ]
    }
   ],
   "source": [
    "params = {'hidden_layer_sizes': (165,), 'alpha': [0.05]}\n",
    "\n",
    "cv_sel_model = GridSearchCV(param_grid=params, estimator=MLPClassifier(random_state=rs), cv=10, n_jobs=-1)\n",
    "cv_sel_model.fit(X_train_sel_model, y_train)\n",
    "\n",
    "print(\"Train accuracy:\", cv_sel_model.score(X_train_sel_model, y_train))\n",
    "print(\"Test accuracy:\", cv_sel_model.score(X_test_sel_model, y_test))\n",
    "\n",
    "y_pred = cv_sel_model.predict(X_test_sel_model)\n",
    "print(classification_report(y_test, y_pred))\n",
    "\n",
    "print(cv_sel_model.best_params_)"
   ]
  },
  {
   "cell_type": "code",
   "execution_count": 71,
   "metadata": {},
   "outputs": [
    {
     "data": {
      "text/plain": [
       "MLPClassifier(activation='relu', alpha=0.0001, batch_size='auto', beta_1=0.9,\n",
       "              beta_2=0.999, early_stopping=False, epsilon=1e-08,\n",
       "              hidden_layer_sizes=(100,), learning_rate='constant',\n",
       "              learning_rate_init=0.001, max_iter=1000, momentum=0.9,\n",
       "              n_iter_no_change=10, nesterovs_momentum=True, power_t=0.5,\n",
       "              random_state=42, shuffle=True, solver='adam', tol=0.0001,\n",
       "              validation_fraction=0.1, verbose=False, warm_start=False)"
      ]
     },
     "execution_count": 71,
     "metadata": {},
     "output_type": "execute_result"
    }
   ],
   "source": [
    "model_6 = MLPClassifier(random_state=42, max_iter=1000)\n",
    "model_6.fit(X_train, y_train)"
   ]
  },
  {
   "cell_type": "code",
   "execution_count": 72,
   "metadata": {},
   "outputs": [
    {
     "name": "stdout",
     "output_type": "stream",
     "text": [
      "Train accuracy: 0.8616317530319736\n",
      "Test accuracy: 0.799055967633176\n"
     ]
    }
   ],
   "source": [
    "print(\"Train accuracy:\", model_6.score(X_train, y_train))\n",
    "print(\"Test accuracy:\", model_6.score(X_test, y_test))\n"
   ]
  },
  {
   "cell_type": "code",
   "execution_count": null,
   "metadata": {},
   "outputs": [],
   "source": [
    "model_9 = MLPClassifier(random_state=42, max_iter=700)\n",
    "model_9.fit(X_train, y_train)"
   ]
  },
  {
   "cell_type": "markdown",
   "metadata": {},
   "source": [
    "# ROC "
   ]
  },
  {
   "cell_type": "code",
   "execution_count": 165,
   "metadata": {},
   "outputs": [
    {
     "name": "stdout",
     "output_type": "stream",
     "text": [
      "ROC index on test for NN_default: 0.8688139179499236\n",
      "ROC index on test for NN_model_2: 0.8519650483915209\n",
      "ROC index on test for NN_cv_1: 0.8448904823478705\n",
      "ROC index on test for NN_cv_2: 0.8688726930762901\n",
      "ROC index on test for NN_cv_3: 0.8524803103326671\n",
      "ROC index on test for NN_model_5: 0.8624093883468518\n",
      "ROC index on test for NN_model_7: 0.8512519101916068\n",
      "ROC index on test for NN_model_8: 0.8670761333803534\n",
      "ROC index on test for NN_model_z: 0.875091101445868\n",
      "ROC index on test for NN with feature selection (model selection) and gridsearch: 0.8503232631950158\n",
      "ROC index on test for NN with feature selection (model selection) and gridsearch two: 0.8548587437796327\n"
     ]
    }
   ],
   "source": [
    "y_pred_proba_nn_1 = model_1.predict_proba(X_test)\n",
    "y_pred_proba_nn_2 = model_2.predict_proba(X_test)\n",
    "y_pred_proba_nn_3 = cv_1.predict_proba(X_test)\n",
    "y_pred_proba_nn_4 = cv_2.predict_proba(X_test)\n",
    "y_pred_proba_nn_5 = cv_3.predict_proba(X_test)\n",
    "y_pred_proba_nn_6 = model_5.predict_proba(X_test)\n",
    "y_pred_proba_nn_7 = model_8.predict_proba(X_test)\n",
    "y_pred_proba_nn_8 = model_6.predict_proba(X_test)\n",
    "y_pred_proba_nn_z = model_z.predict_proba(X_test)\n",
    "y_pred_proba_cv_sel_model = cv_sel_model.predict_proba(X_test_sel_model)\n",
    "y_pred_proba_cv_y = model_y.predict_proba(X_test_sel_model)\n",
    "\n",
    "roc_index_nn_1 = roc_auc_score(y_test, y_pred_proba_nn_1[:, 1])\n",
    "roc_index_nn_2 = roc_auc_score(y_test, y_pred_proba_nn_2[:, 1])\n",
    "roc_index_nn_3 = roc_auc_score(y_test, y_pred_proba_nn_3[:, 1])\n",
    "roc_index_nn_4 = roc_auc_score(y_test, y_pred_proba_nn_4[:, 1])\n",
    "roc_index_nn_5 = roc_auc_score(y_test, y_pred_proba_nn_5[:, 1])\n",
    "roc_index_nn_6 = roc_auc_score(y_test, y_pred_proba_nn_6[:, 1])\n",
    "roc_index_nn_7 = roc_auc_score(y_test, y_pred_proba_nn_7[:, 1])\n",
    "roc_index_nn_8 = roc_auc_score(y_test, y_pred_proba_nn_8[:, 1])\n",
    "roc_index_nn_z = roc_auc_score(y_test, y_pred_proba_nn_z[:, 1])\n",
    "roc_index_cv_sel_model = roc_auc_score(y_test, y_pred_proba_cv_sel_model[:, 1])\n",
    "roc_index_nn_y = roc_auc_score(y_test, y_pred_proba_cv_y[:, 1])\n",
    "\n",
    "print(\"ROC index on test for NN_default:\", roc_index_nn_1)\n",
    "print(\"ROC index on test for NN_model_2:\", roc_index_nn_2)\n",
    "print(\"ROC index on test for NN_cv_1:\", roc_index_nn_3)\n",
    "print(\"ROC index on test for NN_cv_2:\", roc_index_nn_4)\n",
    "print(\"ROC index on test for NN_cv_3:\", roc_index_nn_5)\n",
    "print(\"ROC index on test for NN_model_5:\", roc_index_nn_6)\n",
    "print(\"ROC index on test for NN_model_7:\", roc_index_nn_7)\n",
    "print(\"ROC index on test for NN_model_8:\", roc_index_nn_8)\n",
    "print(\"ROC index on test for NN_model_z:\", roc_index_nn_z)\n",
    "print(\"ROC index on test for NN with feature selection (model selection) and gridsearch:\", roc_index_cv_sel_model)\n",
    "print(\"ROC index on test for NN with feature selection (model selection) and gridsearch two:\", roc_index_nn_y)"
   ]
  },
  {
   "cell_type": "code",
   "execution_count": 87,
   "metadata": {},
   "outputs": [],
   "source": [
    "#fpr_nn_1, tpr_nn_1, thresholds_nn_1 = roc_curve(y_test, y_pred_proba_nn_1[:,1])\n",
    "fpr_nn_2, tpr_nn_2, thresholds_nn_2 = roc_curve(y_test, y_pred_proba_nn_2[:,1])\n",
    "fpr_cv_1, tpr_cv_1, thresholds_cv_1 = roc_curve(y_test, y_pred_proba_nn_3[:,1])\n",
    "fpr_cv_2, tpr_cv_2, thresholds_cv_2 = roc_curve(y_test, y_pred_proba_nn_4[:,1])\n",
    "fpr_cv_3, tpr_cv_3, thresholds_cv_3 = roc_curve(y_test, y_pred_proba_nn_5[:,1])\n",
    "fpr_nn_6, tpr_nn_6, thresholds_nn_6 = roc_curve(y_test, y_pred_proba_nn_6[:, 1])\n",
    "fpr_nn_z, tpr_nn_z, thresholds_nn_z = roc_curve(y_test, y_pred_proba_nn_z[:, 1])"
   ]
  },
  {
   "cell_type": "code",
   "execution_count": 90,
   "metadata": {},
   "outputs": [
    {
     "data": {
      "image/png": "[encoded data removed]",
      "text/plain": [
       "<Figure size 432x288 with 1 Axes>"
      ]
     },
     "metadata": {
      "needs_background": "light"
     },
     "output_type": "display_data"
    }
   ],
   "source": [
    "import matplotlib.pyplot as plt\n",
    "\n",
    "#plt.plot(fpr_nn_1, tpr_nn_1, label='NN_default {:.3f}'.format(roc_index_nn_1), color='red', lw=0.5)\n",
    "plt.plot(fpr_nn_2, tpr_nn_2, label='NN with relu {:.3f}'.format(roc_index_nn_2), color='green', lw=0.5)\n",
    "plt.plot(fpr_cv_1, tpr_cv_1, label='NN cv_1 {:.3f}'.format(roc_index_nn_3), color='blue', lw=0.5)\n",
    "plt.plot(fpr_cv_2, tpr_cv_2, label='NN cv_2 {:.3f}'.format(roc_index_nn_4), color='yellow', lw=0.5)\n",
    "plt.plot(fpr_cv_3, tpr_cv_3, label='NN cv_3 {:.3f}'.format(roc_index_nn_5), color='cyan', lw=0.5)\n",
    "plt.plot(fpr_nn_6, tpr_nn_6, label='NN 6 {:.3f}'.format(roc_index_nn_6), color='gray', lw=0.5)\n",
    "plt.plot(fpr_nn_z, tpr_nn_z, label='NN z {:.3f}'.format(roc_index_nn_z), color='red', lw=0.5)\n",
    "#plt.plot(fpr_cv_sel_model, tpr_cv_sel_model, label='NN with cv_sel_model {:.3f}'.format(roc_index_cv_sel_model), color='black', lw=0.5)\n",
    "\n",
    "\n",
    "plt.plot([0, 1], [0, 1], color='navy', lw=0.5, linestyle='--')\n",
    "plt.xlim([0.0, 1.0])\n",
    "plt.ylim([0.0, 1.0])\n",
    "plt.xlabel('False Positive Rate')\n",
    "plt.ylabel('True Positive Rate')\n",
    "plt.title('Receiver operating characteristic example')\n",
    "plt.legend(loc=\"lower right\")\n",
    "plt.show()"
   ]
  },
  {
   "cell_type": "code",
   "execution_count": null,
   "metadata": {},
   "outputs": [],
   "source": []
  },
  {
   "cell_type": "code",
   "execution_count": null,
   "metadata": {},
   "outputs": [],
   "source": []
  },
  {
   "cell_type": "code",
   "execution_count": null,
   "metadata": {},
   "outputs": [],
   "source": []
  },
  {
   "cell_type": "code",
   "execution_count": null,
   "metadata": {},
   "outputs": [],
   "source": []
  },
  {
   "cell_type": "code",
   "execution_count": null,
   "metadata": {},
   "outputs": [],
   "source": []
  },
  {
   "cell_type": "code",
   "execution_count": null,
   "metadata": {},
   "outputs": [],
   "source": []
  },
  {
   "cell_type": "code",
   "execution_count": null,
   "metadata": {},
   "outputs": [],
   "source": []
  },
  {
   "cell_type": "code",
   "execution_count": null,
   "metadata": {},
   "outputs": [],
   "source": []
  },
  {
   "cell_type": "code",
   "execution_count": null,
   "metadata": {},
   "outputs": [],
   "source": []
  },
  {
   "cell_type": "code",
   "execution_count": null,
   "metadata": {},
   "outputs": [],
   "source": []
  },
  {
   "cell_type": "code",
   "execution_count": null,
   "metadata": {},
   "outputs": [],
   "source": []
  },
  {
   "cell_type": "code",
   "execution_count": null,
   "metadata": {},
   "outputs": [],
   "source": []
  },
  {
   "cell_type": "markdown",
   "metadata": {},
   "source": [
    "# Draft"
   ]
  },
  {
   "cell_type": "code",
   "execution_count": 59,
   "metadata": {},
   "outputs": [
    {
     "name": "stdout",
     "output_type": "stream",
     "text": [
      "Train accuracy: 0.8263506063947078\n",
      "Test accuracy: 0.7882670262980445\n",
      "              precision    recall  f1-score   support\n",
      "\n",
      "       False       0.80      0.89      0.84       940\n",
      "        True       0.76      0.62      0.68       543\n",
      "\n",
      "    accuracy                           0.79      1483\n",
      "   macro avg       0.78      0.75      0.76      1483\n",
      "weighted avg       0.79      0.79      0.78      1483\n",
      "\n",
      "MLPClassifier(activation='logistic', alpha=0.0001, batch_size='auto',\n",
      "              beta_1=0.9, beta_2=0.999, early_stopping=False, epsilon=1e-08,\n",
      "              hidden_layer_sizes=165, learning_rate='constant',\n",
      "              learning_rate_init=0.001, max_iter=1000, momentum=0.9,\n",
      "              n_iter_no_change=10, nesterovs_momentum=True, power_t=0.5,\n",
      "              random_state=42, shuffle=True, solver='lbfgs', tol=0.0001,\n",
      "              validation_fraction=0.1, verbose=False, warm_start=False)\n"
     ]
    }
   ],
   "source": [
    "model_8 = MLPClassifier(hidden_layer_sizes=165, max_iter=1000, solver='lbfgs', random_state=42, activation='logistic')\n",
    "model_8.fit(X_train, y_train)\n",
    "\n",
    "print(\"Train accuracy:\", model_8.score(X_train, y_train))\n",
    "print(\"Test accuracy:\", model_8.score(X_test, y_test))\n",
    "\n",
    "y_pred = model_8.predict(X_test)\n",
    "print(classification_report(y_test, y_pred))\n",
    "\n",
    "print(model_8)"
   ]
  },
  {
   "cell_type": "code",
   "execution_count": 62,
   "metadata": {},
   "outputs": [
    {
     "name": "stdout",
     "output_type": "stream",
     "text": [
      "Train accuracy: 0.8373759647188533\n",
      "Test accuracy: 0.7862440997977074\n",
      "              precision    recall  f1-score   support\n",
      "\n",
      "       False       0.85      0.80      0.83       940\n",
      "        True       0.69      0.76      0.72       543\n",
      "\n",
      "    accuracy                           0.79      1483\n",
      "   macro avg       0.77      0.78      0.77      1483\n",
      "weighted avg       0.79      0.79      0.79      1483\n",
      "\n",
      "{'activation': 'tanh', 'alpha': 0.05, 'hidden_layer_sizes': (145,), 'solver': 'adam'}\n"
     ]
    }
   ],
   "source": [
    "# new parameters\n",
    "params = {'hidden_layer_sizes': [(130,), (145,), (165,)],'activation': ['tanh', 'relu'],\n",
    "    'solver': ['lbfgs', 'adam'],\n",
    "    'alpha': [0.0001, 0.05]}\n",
    "\n",
    "cv_2 = GridSearchCV(param_grid=params, estimator=MLPClassifier(random_state=rs), cv=10, n_jobs=-1)\n",
    "cv_2.fit(X_train, y_train)\n",
    "\n",
    "print(\"Train accuracy:\", cv_2.score(X_train, y_train))\n",
    "print(\"Test accuracy:\", cv_2.score(X_test, y_test))\n",
    "\n",
    "y_pred = cv_2.predict(X_test)\n",
    "print(classification_report(y_test, y_pred))\n",
    "\n",
    "print(cv_2.best_params_)"
   ]
  },
  {
   "cell_type": "code",
   "execution_count": 84,
   "metadata": {},
   "outputs": [
    {
     "name": "stdout",
     "output_type": "stream",
     "text": [
      "Train accuracy: 0.863561190738699\n",
      "Test accuracy: 0.7936614969656103\n",
      "              precision    recall  f1-score   support\n",
      "\n",
      "       False       0.78      0.94      0.85       940\n",
      "        True       0.85      0.53      0.65       543\n",
      "\n",
      "    accuracy                           0.79      1483\n",
      "   macro avg       0.81      0.74      0.75      1483\n",
      "weighted avg       0.80      0.79      0.78      1483\n",
      "\n",
      "MLPClassifier(activation='tanh', alpha=0.05, batch_size='auto', beta_1=0.9,\n",
      "              beta_2=0.999, early_stopping=False, epsilon=1e-08,\n",
      "              hidden_layer_sizes=165, learning_rate='constant',\n",
      "              learning_rate_init=0.001, max_iter=700, momentum=0.9,\n",
      "              n_iter_no_change=10, nesterovs_momentum=True, power_t=0.5,\n",
      "              random_state=42, shuffle=True, solver='adam', tol=0.0001,\n",
      "              validation_fraction=0.1, verbose=False, warm_start=False)\n"
     ]
    }
   ],
   "source": [
    "model_z = MLPClassifier(hidden_layer_sizes=165, max_iter=700, solver='adam', random_state=42, activation='tanh',alpha= 0.05)\n",
    "model_z.fit(X_train, y_train)\n",
    "\n",
    "print(\"Train accuracy:\", model_z.score(X_train, y_train))\n",
    "print(\"Test accuracy:\", model_z.score(X_test, y_test))\n",
    "\n",
    "y_pred = model_z.predict(X_test)\n",
    "print(classification_report(y_test, y_pred))\n",
    "\n",
    "print(model_z)"
   ]
  },
  {
   "cell_type": "code",
   "execution_count": 147,
   "metadata": {},
   "outputs": [
    {
     "name": "stdout",
     "output_type": "stream",
     "text": [
      "Train accuracy: 0.8007166482910695\n",
      "Test accuracy: 0.7828725556304788\n",
      "              precision    recall  f1-score   support\n",
      "\n",
      "       False       0.79      0.90      0.84       940\n",
      "        True       0.77      0.59      0.66       543\n",
      "\n",
      "    accuracy                           0.78      1483\n",
      "   macro avg       0.78      0.74      0.75      1483\n",
      "weighted avg       0.78      0.78      0.78      1483\n",
      "\n",
      "{'activation': 'tanh', 'alpha': 0.05, 'hidden_layer_sizes': (20,), 'solver': 'adam'}\n"
     ]
    }
   ],
   "source": [
    "params = {'hidden_layer_sizes': [(10,),(20,)],'activation': ['tanh', 'relu'],\n",
    "    'solver': ['lbfgs', 'adam'],\n",
    "    'alpha': [0.0001, 0.05]}\n",
    "\n",
    "cv_sel_model = GridSearchCV(param_grid=params, estimator=MLPClassifier(random_state=rs), cv=10, n_jobs=-1)\n",
    "cv_sel_model.fit(X_train_sel_model, y_train)\n",
    "\n",
    "print(\"Train accuracy:\", cv_sel_model.score(X_train_sel_model, y_train))\n",
    "print(\"Test accuracy:\", cv_sel_model.score(X_test_sel_model, y_test))\n",
    "\n",
    "y_pred = cv_sel_model.predict(X_test_sel_model)\n",
    "print(classification_report(y_test, y_pred))\n",
    "\n",
    "print(cv_sel_model.best_params_)"
   ]
  },
  {
   "cell_type": "code",
   "execution_count": 161,
   "metadata": {},
   "outputs": [
    {
     "name": "stdout",
     "output_type": "stream",
     "text": [
      "Train accuracy: 0.804851157662624\n",
      "Test accuracy: 0.7929871881321645\n",
      "              precision    recall  f1-score   support\n",
      "\n",
      "       False       0.82      0.86      0.84       940\n",
      "        True       0.73      0.68      0.71       543\n",
      "\n",
      "    accuracy                           0.79      1483\n",
      "   macro avg       0.78      0.77      0.77      1483\n",
      "weighted avg       0.79      0.79      0.79      1483\n",
      "\n",
      "{'activation': 'tanh', 'alpha': 0.05, 'hidden_layer_sizes': (16,), 'solver': 'adam'}\n"
     ]
    }
   ],
   "source": [
    "params = {'hidden_layer_sizes': [(x,) for x in range(1,20, 5)],'activation': ['tanh', 'relu'],\n",
    "    'solver': ['lbfgs', 'adam'],\n",
    "    'alpha': [0.0001, 0.05]}\n",
    "\n",
    "cv_sel_model = GridSearchCV(param_grid=params, estimator=MLPClassifier(random_state=rs),return_train_score=True, cv=10, n_jobs=-1)\n",
    "cv_sel_model.fit(X_train_sel_model, y_train)\n",
    "\n",
    "print(\"Train accuracy:\", cv_sel_model.score(X_train_sel_model, y_train))\n",
    "print(\"Test accuracy:\", cv_sel_model.score(X_test_sel_model, y_test))\n",
    "\n",
    "y_pred = cv_sel_model.predict(X_test_sel_model)\n",
    "print(classification_report(y_test, y_pred))\n",
    "\n",
    "print(cv_sel_model.best_params_)"
   ]
  },
  {
   "cell_type": "code",
   "execution_count": 174,
   "metadata": {},
   "outputs": [
    {
     "name": "stdout",
     "output_type": "stream",
     "text": [
      "Train accuracy: 0.804851157662624\n",
      "Test accuracy: 0.7929871881321645\n",
      "              precision    recall  f1-score   support\n",
      "\n",
      "       False       0.82      0.86      0.84       940\n",
      "        True       0.73      0.68      0.71       543\n",
      "\n",
      "    accuracy                           0.79      1483\n",
      "   macro avg       0.78      0.77      0.77      1483\n",
      "weighted avg       0.79      0.79      0.79      1483\n",
      "\n",
      "MLPClassifier(activation='tanh', alpha=0.05, batch_size='auto', beta_1=0.9,\n",
      "              beta_2=0.999, early_stopping=False, epsilon=1e-08,\n",
      "              hidden_layer_sizes=16, learning_rate='constant',\n",
      "              learning_rate_init=0.001, max_iter=200, momentum=0.9,\n",
      "              n_iter_no_change=10, nesterovs_momentum=True, power_t=0.5,\n",
      "              random_state=42, shuffle=True, solver='adam', tol=0.0001,\n",
      "              validation_fraction=0.1, verbose=False, warm_start=False)\n"
     ]
    }
   ],
   "source": [
    "model_y = MLPClassifier(hidden_layer_sizes=16, max_iter=200, solver='adam', random_state=42, activation='tanh',alpha= 0.05)\n",
    "model_y.fit(X_train_sel_model, y_train)\n",
    "\n",
    "print(\"Train accuracy:\", model_y.score(X_train_sel_model, y_train))\n",
    "print(\"Test accuracy:\", model_y.score(X_test_sel_model, y_test))\n",
    "\n",
    "y_pred = model_y.predict(X_test_sel_model)\n",
    "print(classification_report(y_test, y_pred))\n",
    "\n",
    "print(model_y)"
   ]
  },
  {
   "cell_type": "code",
   "execution_count": 137,
   "metadata": {},
   "outputs": [
    {
     "name": "stdout",
     "output_type": "stream",
     "text": [
      "Total number of models:  24\n"
     ]
    },
    {
     "data": {
      "image/png": "[encoded data removed]",
      "text/plain": [
       "<Figure size 432x288 with 1 Axes>"
      ]
     },
     "metadata": {
      "needs_background": "light"
     },
     "output_type": "display_data"
    }
   ],
   "source": [
    "result_set = cv_sel_model.cv_results_\n",
    "import matplotlib.pyplot as plt\n",
    "train_result = result_set['split0_train_score']\n",
    "test_result = result_set['split0_test_score']\n",
    "print(\"Total number of models: \", len(test_result))\n",
    "# plot Hyperparameter C values vs training and test accuracy score\n",
    "plt.plot(range(0, len(train_result)), train_result, 'b', range(0,len(test_result)), test_result, 'r')\n",
    "plt.xlabel('Layer\\nBlue = training acc. Red = test acc.')\n",
    "plt.xticks(range(0, len(train_result)),[(x,) for x in range(25, 165, 50)])\n",
    "plt.ylabel('score')\n",
    "plt.show()\n"
   ]
  },
  {
   "cell_type": "code",
   "execution_count": null,
   "metadata": {},
   "outputs": [],
   "source": []
  }
 ],
 "metadata": {
  "kernelspec": {
   "display_name": "Python 3",
   "language": "python",
   "name": "python3"
  },
  "language_info": {
   "codemirror_mode": {
    "name": "ipython",
    "version": 3
   },
   "file_extension": ".py",
   "mimetype": "text/x-python",
   "name": "python",
   "nbconvert_exporter": "python",
   "pygments_lexer": "ipython3",
   "version": "3.7.4"
  }
 },
 "nbformat": 4,
 "nbformat_minor": 2
}
