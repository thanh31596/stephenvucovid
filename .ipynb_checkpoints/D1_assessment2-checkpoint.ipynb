{
 "cells": [
  {
   "cell_type": "code",
   "execution_count": 1,
   "metadata": {},
   "outputs": [],
   "source": [
    "## Install external libraries here\n"
   ]
  },
  {
   "cell_type": "code",
   "execution_count": 1,
   "metadata": {},
   "outputs": [],
   "source": [
    "## Import packages here\n",
    "\n",
    "from IPython.display import display\n",
    "import pandas as pd \n",
    "import numpy as np \n",
    "from apyori import apriori"
   ]
  },
  {
   "cell_type": "markdown",
   "metadata": {},
   "source": [
    "# Project (a): Association Mining "
   ]
  },
  {
   "cell_type": "markdown",
   "metadata": {},
   "source": [
    "### Task 1: What variables I used in my analysis? Justify my choice"
   ]
  },
  {
   "cell_type": "markdown",
   "metadata": {},
   "source": [
    "<font color=red> As requested to identify the common routes of COVID-19 positive patients travelled in the given dates, it is essential to include **Location** and **Patient_id** as the variables for the association mining rules </font>\n"
   ]
  },
  {
   "cell_type": "markdown",
   "metadata": {},
   "source": [
    "The reason is simple, location is the only string indicating the routes' components (only column displays the information of people's destination) while patient_id is unique, helping to differentiate transactions by specific individuals"
   ]
  },
  {
   "cell_type": "markdown",
   "metadata": {},
   "source": [
    "<p style=\"text-align: center;\">-----------------------------------------------</p>"
   ]
  },
  {
   "cell_type": "markdown",
   "metadata": {},
   "source": [
    "### Task 2: What pre-processing step was required on the dataset before building the assosciation "
   ]
  },
  {
   "cell_type": "code",
   "execution_count": 2,
   "metadata": {},
   "outputs": [],
   "source": [
    "df = pd.read_csv(\"D1.csv\", keep_default_na = False, na_values = [\"\", \"nan\"])\n",
    "df['date']=pd.to_datetime(df['date'])\n",
    "df.set_index('date',inplace=True)\n",
    "df=df[['patient_id','location']]"
   ]
  },
  {
   "cell_type": "code",
   "execution_count": 3,
   "metadata": {},
   "outputs": [],
   "source": [
    "df=df[['patient_id','location']]"
   ]
  },
  {
   "cell_type": "code",
   "execution_count": 4,
   "metadata": {},
   "outputs": [
    {
     "name": "stdout",
     "output_type": "stream",
     "text": [
      "<class 'pandas.core.frame.DataFrame'>\n",
      "DatetimeIndex: 1509 entries, 2020-01-22 to 2020-03-24\n",
      "Data columns (total 2 columns):\n",
      "patient_id    1509 non-null int64\n",
      "location      1509 non-null object\n",
      "dtypes: int64(1), object(1)\n",
      "memory usage: 35.4+ KB\n"
     ]
    }
   ],
   "source": [
    "df.info()"
   ]
  },
  {
   "cell_type": "code",
   "execution_count": 5,
   "metadata": {},
   "outputs": [
    {
     "data": {
      "text/html": [
       "<div>\n",
       "<style scoped>\n",
       "    .dataframe tbody tr th:only-of-type {\n",
       "        vertical-align: middle;\n",
       "    }\n",
       "\n",
       "    .dataframe tbody tr th {\n",
       "        vertical-align: top;\n",
       "    }\n",
       "\n",
       "    .dataframe thead th {\n",
       "        text-align: right;\n",
       "    }\n",
       "</style>\n",
       "<table border=\"1\" class=\"dataframe\">\n",
       "  <thead>\n",
       "    <tr style=\"text-align: right;\">\n",
       "      <th></th>\n",
       "      <th>patient_id</th>\n",
       "      <th>location</th>\n",
       "    </tr>\n",
       "    <tr>\n",
       "      <th>date</th>\n",
       "      <th></th>\n",
       "      <th></th>\n",
       "    </tr>\n",
       "  </thead>\n",
       "  <tbody>\n",
       "    <tr>\n",
       "      <td>2020-06-03</td>\n",
       "      <td>6100000083</td>\n",
       "      <td>Daegu_Buk-gu</td>\n",
       "    </tr>\n",
       "    <tr>\n",
       "      <td>2020-03-16</td>\n",
       "      <td>6100000085</td>\n",
       "      <td>Gyeongsangnam-do_Changwon-si</td>\n",
       "    </tr>\n",
       "    <tr>\n",
       "      <td>2020-03-14</td>\n",
       "      <td>6100000086</td>\n",
       "      <td>Daegu_Dalseong-gun</td>\n",
       "    </tr>\n",
       "    <tr>\n",
       "      <td>2020-03-24</td>\n",
       "      <td>6100000090</td>\n",
       "      <td>Incheon_Jung-gu</td>\n",
       "    </tr>\n",
       "    <tr>\n",
       "      <td>2020-03-24</td>\n",
       "      <td>6100000090</td>\n",
       "      <td>Busan_Gangseo-gu</td>\n",
       "    </tr>\n",
       "  </tbody>\n",
       "</table>\n",
       "</div>"
      ],
      "text/plain": [
       "            patient_id                      location\n",
       "date                                                \n",
       "2020-06-03  6100000083                  Daegu_Buk-gu\n",
       "2020-03-16  6100000085  Gyeongsangnam-do_Changwon-si\n",
       "2020-03-14  6100000086            Daegu_Dalseong-gun\n",
       "2020-03-24  6100000090               Incheon_Jung-gu\n",
       "2020-03-24  6100000090              Busan_Gangseo-gu"
      ]
     },
     "metadata": {},
     "output_type": "display_data"
    }
   ],
   "source": [
    "display(df.tail(5))"
   ]
  },
  {
   "cell_type": "markdown",
   "metadata": {},
   "source": [
    "**It can be seen that <font color=red>'Date'</font> should be formatted into datetime type for future index implemenetation. There are missing values only in the column <font color=red>'Global num'</font>, depending on its importance, we will inform the appropriate preprocessing method later**"
   ]
  },
  {
   "cell_type": "markdown",
   "metadata": {},
   "source": [
    "<p style=\"text-align: center;\">-----------------------------------------------</p>"
   ]
  },
  {
   "cell_type": "markdown",
   "metadata": {},
   "source": [
    "### Task 3: Association Mining Conduct:"
   ]
  },
  {
   "cell_type": "markdown",
   "metadata": {},
   "source": [
    "#### a. What is 'min_support' threshold set and why you choose it?"
   ]
  },
  {
   "cell_type": "markdown",
   "metadata": {},
   "source": [
    "**Frequent itemsets are the ones which occur at least a minimum number of times in the transactions. Technically, these are the itemsets for which support value (fraction of transactions containing the itemset) is above a minimum threshold — minsup.**"
   ]
  },
  {
   "cell_type": "code",
   "execution_count": 6,
   "metadata": {},
   "outputs": [],
   "source": [
    "def convert_apriori_results_to_pandas_df(results):\n",
    "    rules = []\n",
    "\n",
    "    for rule_set in results:\n",
    "\n",
    "        for rule in rule_set.ordered_statistics:\n",
    "            rules.append([','.join(rule.items_base), ','.join(rule.items_add),rule_set.support, rule.confidence, rule.lift])\n",
    "    \n",
    "    return pd.DataFrame(rules, columns=['Left_side', 'Right_side', 'Support', 'Confidence', 'Lift'])"
   ]
  },
  {
   "cell_type": "code",
   "execution_count": 7,
   "metadata": {},
   "outputs": [
    {
     "data": {
      "text/html": [
       "<div>\n",
       "<style scoped>\n",
       "    .dataframe tbody tr th:only-of-type {\n",
       "        vertical-align: middle;\n",
       "    }\n",
       "\n",
       "    .dataframe tbody tr th {\n",
       "        vertical-align: top;\n",
       "    }\n",
       "\n",
       "    .dataframe thead th {\n",
       "        text-align: right;\n",
       "    }\n",
       "</style>\n",
       "<table border=\"1\" class=\"dataframe\">\n",
       "  <thead>\n",
       "    <tr style=\"text-align: right;\">\n",
       "      <th></th>\n",
       "      <th>Left_side</th>\n",
       "      <th>Right_side</th>\n",
       "      <th>Support</th>\n",
       "      <th>Confidence</th>\n",
       "      <th>Lift</th>\n",
       "    </tr>\n",
       "  </thead>\n",
       "  <tbody>\n",
       "    <tr>\n",
       "      <td>6153</td>\n",
       "      <td>Gyeonggi-do_Icheon-si,Seoul_Yongsan-gu</td>\n",
       "      <td>Seoul_Yeongdeungpo-gu,Seoul_Mapo-gu</td>\n",
       "      <td>0.001122</td>\n",
       "      <td>1.0</td>\n",
       "      <td>891.0</td>\n",
       "    </tr>\n",
       "    <tr>\n",
       "      <td>6355</td>\n",
       "      <td>Busan_Dong-gu,Busan_Nam-gu,Chungcheongbuk-do_C...</td>\n",
       "      <td>Busan_Yeongdo-gu</td>\n",
       "      <td>0.001122</td>\n",
       "      <td>1.0</td>\n",
       "      <td>891.0</td>\n",
       "    </tr>\n",
       "    <tr>\n",
       "      <td>6352</td>\n",
       "      <td>Chungcheongbuk-do_Cheongju-si,Busan_Yeongdo-gu...</td>\n",
       "      <td>Busan_Dong-gu,Busan_Nam-gu</td>\n",
       "      <td>0.001122</td>\n",
       "      <td>1.0</td>\n",
       "      <td>891.0</td>\n",
       "    </tr>\n",
       "    <tr>\n",
       "      <td>6351</td>\n",
       "      <td>Busan_Nam-gu,Chungcheongbuk-do_Cheongju-si,Chu...</td>\n",
       "      <td>Busan_Dong-gu,Busan_Yeongdo-gu</td>\n",
       "      <td>0.001122</td>\n",
       "      <td>1.0</td>\n",
       "      <td>891.0</td>\n",
       "    </tr>\n",
       "    <tr>\n",
       "      <td>6350</td>\n",
       "      <td>Busan_Nam-gu,Busan_Yeongdo-gu,Chungcheongbuk-d...</td>\n",
       "      <td>Busan_Dong-gu,Chungcheongbuk-do_Cheongju-si</td>\n",
       "      <td>0.001122</td>\n",
       "      <td>1.0</td>\n",
       "      <td>891.0</td>\n",
       "    </tr>\n",
       "  </tbody>\n",
       "</table>\n",
       "</div>"
      ],
      "text/plain": [
       "                                              Left_side  \\\n",
       "6153             Gyeonggi-do_Icheon-si,Seoul_Yongsan-gu   \n",
       "6355  Busan_Dong-gu,Busan_Nam-gu,Chungcheongbuk-do_C...   \n",
       "6352  Chungcheongbuk-do_Cheongju-si,Busan_Yeongdo-gu...   \n",
       "6351  Busan_Nam-gu,Chungcheongbuk-do_Cheongju-si,Chu...   \n",
       "6350  Busan_Nam-gu,Busan_Yeongdo-gu,Chungcheongbuk-d...   \n",
       "\n",
       "                                       Right_side   Support  Confidence   Lift  \n",
       "6153          Seoul_Yeongdeungpo-gu,Seoul_Mapo-gu  0.001122         1.0  891.0  \n",
       "6355                             Busan_Yeongdo-gu  0.001122         1.0  891.0  \n",
       "6352                   Busan_Dong-gu,Busan_Nam-gu  0.001122         1.0  891.0  \n",
       "6351               Busan_Dong-gu,Busan_Yeongdo-gu  0.001122         1.0  891.0  \n",
       "6350  Busan_Dong-gu,Chungcheongbuk-do_Cheongju-si  0.001122         1.0  891.0  "
      ]
     },
     "execution_count": 7,
     "metadata": {},
     "output_type": "execute_result"
    }
   ],
   "source": [
    "group = df.groupby(['patient_id'])['location'].apply(list)\n",
    "groupList = list(group)\n",
    "\n",
    "result = list(apriori(groupList, min_support=0.001122))\n",
    "\n",
    "resultDf = convert_apriori_results_to_pandas_df(result)\n",
    "\n",
    "resultDf = resultDf.sort_values(by=\"Lift\", ascending=False)\n",
    "\n",
    "resultDf.head(5)"
   ]
  },
  {
   "cell_type": "markdown",
   "metadata": {},
   "source": [
    "**It implies that 2.8% people went to Incheon_Jung-gu after living in Seoul_Gangnam-gu and people going to Seoul Gangnam-gu have 5% probability of going to Incheon_jung-gu as their next destination**"
   ]
  },
  {
   "cell_type": "markdown",
   "metadata": {},
   "source": [
    "#### b. Top 10 common routes that COVID-19 patients from Seoul_Dongjak-gu have travelled"
   ]
  },
  {
   "cell_type": "code",
   "execution_count": 15,
   "metadata": {},
   "outputs": [],
   "source": [
    "result_seoul = resultDf[resultDf['Left_side']=='Seoul_Dongjak-gu']"
   ]
  },
  {
   "cell_type": "code",
   "execution_count": 16,
   "metadata": {},
   "outputs": [
    {
     "data": {
      "text/html": [
       "<div>\n",
       "<style scoped>\n",
       "    .dataframe tbody tr th:only-of-type {\n",
       "        vertical-align: middle;\n",
       "    }\n",
       "\n",
       "    .dataframe tbody tr th {\n",
       "        vertical-align: top;\n",
       "    }\n",
       "\n",
       "    .dataframe thead th {\n",
       "        text-align: right;\n",
       "    }\n",
       "</style>\n",
       "<table border=\"1\" class=\"dataframe\">\n",
       "  <thead>\n",
       "    <tr style=\"text-align: right;\">\n",
       "      <th></th>\n",
       "      <th>Left_side</th>\n",
       "      <th>Right_side</th>\n",
       "      <th>Support</th>\n",
       "      <th>Confidence</th>\n",
       "      <th>Lift</th>\n",
       "    </tr>\n",
       "  </thead>\n",
       "  <tbody>\n",
       "    <tr>\n",
       "      <td>6671</td>\n",
       "      <td>Seoul_Dongjak-gu</td>\n",
       "      <td>Daegu_Dalseo-gu,Daegu_Dong-gu,Seoul_Yangcheon-...</td>\n",
       "      <td>0.001122</td>\n",
       "      <td>0.012658</td>\n",
       "      <td>11.278481</td>\n",
       "    </tr>\n",
       "    <tr>\n",
       "      <td>4290</td>\n",
       "      <td>Seoul_Dongjak-gu</td>\n",
       "      <td>Seoul_Jung-gu,Seoul_Yongsan-gu</td>\n",
       "      <td>0.001122</td>\n",
       "      <td>0.012658</td>\n",
       "      <td>11.278481</td>\n",
       "    </tr>\n",
       "    <tr>\n",
       "      <td>6641</td>\n",
       "      <td>Seoul_Dongjak-gu</td>\n",
       "      <td>Daegu_Buk-gu,Gyeongsangbuk-do_Chilgok-gun,Seou...</td>\n",
       "      <td>0.001122</td>\n",
       "      <td>0.012658</td>\n",
       "      <td>11.278481</td>\n",
       "    </tr>\n",
       "    <tr>\n",
       "      <td>4283</td>\n",
       "      <td>Seoul_Dongjak-gu</td>\n",
       "      <td>Seoul_Guro-gu,Seoul_Geumcheon-gu</td>\n",
       "      <td>0.001122</td>\n",
       "      <td>0.012658</td>\n",
       "      <td>11.278481</td>\n",
       "    </tr>\n",
       "    <tr>\n",
       "      <td>5789</td>\n",
       "      <td>Seoul_Dongjak-gu</td>\n",
       "      <td>Gyeongsangbuk-do_Chilgok-gun,Seoul_Jung-gu,Dae...</td>\n",
       "      <td>0.001122</td>\n",
       "      <td>0.012658</td>\n",
       "      <td>11.278481</td>\n",
       "    </tr>\n",
       "    <tr>\n",
       "      <td>1290</td>\n",
       "      <td>Seoul_Dongjak-gu</td>\n",
       "      <td>Gyeongsangbuk-do_Chilgok-gun</td>\n",
       "      <td>0.001122</td>\n",
       "      <td>0.012658</td>\n",
       "      <td>11.278481</td>\n",
       "    </tr>\n",
       "    <tr>\n",
       "      <td>5564</td>\n",
       "      <td>Seoul_Dongjak-gu</td>\n",
       "      <td>Daegu_Jung-gu,Seoul_Jung-gu,Daegu_Nam-gu</td>\n",
       "      <td>0.001122</td>\n",
       "      <td>0.012658</td>\n",
       "      <td>11.278481</td>\n",
       "    </tr>\n",
       "    <tr>\n",
       "      <td>6487</td>\n",
       "      <td>Seoul_Dongjak-gu</td>\n",
       "      <td>Daegu_Jung-gu,Daegu_Buk-gu,Daegu_Nam-gu,Daegu_...</td>\n",
       "      <td>0.001122</td>\n",
       "      <td>0.012658</td>\n",
       "      <td>11.278481</td>\n",
       "    </tr>\n",
       "    <tr>\n",
       "      <td>5189</td>\n",
       "      <td>Seoul_Dongjak-gu</td>\n",
       "      <td>Daegu_Buk-gu,Seoul_Jung-gu,Daegu_Jung-gu</td>\n",
       "      <td>0.001122</td>\n",
       "      <td>0.012658</td>\n",
       "      <td>11.278481</td>\n",
       "    </tr>\n",
       "    <tr>\n",
       "      <td>6983</td>\n",
       "      <td>Seoul_Dongjak-gu</td>\n",
       "      <td>Daegu_Buk-gu,Daegu_Seo-gu,Daegu_Nam-gu,Seoul_J...</td>\n",
       "      <td>0.001122</td>\n",
       "      <td>0.012658</td>\n",
       "      <td>11.278481</td>\n",
       "    </tr>\n",
       "  </tbody>\n",
       "</table>\n",
       "</div>"
      ],
      "text/plain": [
       "             Left_side                                         Right_side  \\\n",
       "6671  Seoul_Dongjak-gu  Daegu_Dalseo-gu,Daegu_Dong-gu,Seoul_Yangcheon-...   \n",
       "4290  Seoul_Dongjak-gu                     Seoul_Jung-gu,Seoul_Yongsan-gu   \n",
       "6641  Seoul_Dongjak-gu  Daegu_Buk-gu,Gyeongsangbuk-do_Chilgok-gun,Seou...   \n",
       "4283  Seoul_Dongjak-gu                   Seoul_Guro-gu,Seoul_Geumcheon-gu   \n",
       "5789  Seoul_Dongjak-gu  Gyeongsangbuk-do_Chilgok-gun,Seoul_Jung-gu,Dae...   \n",
       "1290  Seoul_Dongjak-gu                       Gyeongsangbuk-do_Chilgok-gun   \n",
       "5564  Seoul_Dongjak-gu           Daegu_Jung-gu,Seoul_Jung-gu,Daegu_Nam-gu   \n",
       "6487  Seoul_Dongjak-gu  Daegu_Jung-gu,Daegu_Buk-gu,Daegu_Nam-gu,Daegu_...   \n",
       "5189  Seoul_Dongjak-gu           Daegu_Buk-gu,Seoul_Jung-gu,Daegu_Jung-gu   \n",
       "6983  Seoul_Dongjak-gu  Daegu_Buk-gu,Daegu_Seo-gu,Daegu_Nam-gu,Seoul_J...   \n",
       "\n",
       "       Support  Confidence       Lift  \n",
       "6671  0.001122    0.012658  11.278481  \n",
       "4290  0.001122    0.012658  11.278481  \n",
       "6641  0.001122    0.012658  11.278481  \n",
       "4283  0.001122    0.012658  11.278481  \n",
       "5789  0.001122    0.012658  11.278481  \n",
       "1290  0.001122    0.012658  11.278481  \n",
       "5564  0.001122    0.012658  11.278481  \n",
       "6487  0.001122    0.012658  11.278481  \n",
       "5189  0.001122    0.012658  11.278481  \n",
       "6983  0.001122    0.012658  11.278481  "
      ]
     },
     "execution_count": 16,
     "metadata": {},
     "output_type": "execute_result"
    }
   ],
   "source": [
    "result_seoul.head(10)"
   ]
  },
  {
   "cell_type": "code",
   "execution_count": null,
   "metadata": {},
   "outputs": [],
   "source": []
  },
  {
   "cell_type": "code",
   "execution_count": 43,
   "metadata": {},
   "outputs": [
    {
     "name": "stdout",
     "output_type": "stream",
     "text": [
      "[['Gyeonggi-do_Gimpo-si', 'Seoul_Jung-gu'], ['Seoul_Seongdong-gu', 'Seoul_Dongdaemun-gu', 'Seoul_Gangnam-gu'], ['Seoul_Jungnang-gu'], ['Seoul_Jungnang-gu'], ['Gyeonggi-do_Goyang-si']]\n"
     ]
    }
   ],
   "source": [
    "transactions = df.groupby(['patient_id'])['location'].apply(list)\n",
    "sequences = transactions.values.tolist()\n",
    "\n",
    "# show the first 5 sequences\n",
    "print(sequences[:5])"
   ]
  },
  {
   "cell_type": "code",
   "execution_count": 45,
   "metadata": {},
   "outputs": [],
   "source": [
    "z=get_association_rules(sequences, 0.001122, 0.001)"
   ]
  },
  {
   "cell_type": "code",
   "execution_count": 42,
   "metadata": {},
   "outputs": [],
   "source": [
    "from collections import defaultdict\n",
    "import subprocess\n",
    "import re\n",
    "\n",
    "''' Uses SPMF to find association rules in supplied transactions '''\n",
    "def get_association_rules(sequences, min_sup, min_conf):\n",
    "    # step 1: create required input for SPMF\n",
    "    \n",
    "    # prepare a dict to uniquely assign each item in the transactions to an int ID\n",
    "    item_dict = defaultdict(int)\n",
    "    output_dict = defaultdict(str)\n",
    "    item_id = 1\n",
    "    \n",
    "    # write your sequences in SPMF format\n",
    "    with open('seq_rule_input.txt', 'w+') as f:\n",
    "        for sequence in sequences:\n",
    "            z = []\n",
    "            for itemset in sequence: \n",
    "                # if there are multiple items in one itemset\n",
    "                if isinstance(itemset, list):\n",
    "                    for item in itemset:\n",
    "                        if item not in item_dict:\n",
    "                            item_dict[item] = item_id\n",
    "                            item_id += 1\n",
    "\n",
    "                        z.append(item_dict[item])\n",
    "                else:\n",
    "                    if itemset not in item_dict:\n",
    "                        item_dict[itemset] = item_id\n",
    "                        output_dict[str(item_id)] = itemset\n",
    "                        item_id += 1\n",
    "                    z.append(item_dict[itemset])\n",
    "                    \n",
    "                # end of itemset\n",
    "                z.append(-1)\n",
    "            \n",
    "            # end of a sequence\n",
    "            z.append(-2)\n",
    "            f.write(' '.join([str(x) for x in z]))\n",
    "            f.write('\\n')\n",
    "    \n",
    "    # run SPMF with supplied parameters\n",
    "    supp_param = '{}%'.format(int(min_sup * 100))\n",
    "    conf_param = '{}%'.format(int(min_conf * 100))\n",
    "    subprocess.call(['java', '-jar', 'spmf.jar', 'run', 'RuleGrowth', \n",
    "                     'seq_rule_input.txt', 'seq_rule_output.txt', \n",
    "                     supp_param, conf_param], shell=True)\n",
    "    \n",
    "    # read back the output rules\n",
    "    outputs = open('seq_rule_output.txt', 'r').read().strip().split('\\n')\n",
    "    output_rules = []\n",
    "    for rule in outputs:\n",
    "        left, right, sup, conf = re.search(pattern=r'([0-9\\,]+) ==> ([0-9\\,]+) #SUP: ([0-9]+) #CONF: ([0-9\\.]+)', string=rule).groups()\n",
    "        sup = int(sup) / len(sequences)\n",
    "        conf = float(conf)\n",
    "        output_rules.append([[output_dict[x] for x in left.split(',')], [output_dict[x] for x in right.split(',')], sup, conf])\n",
    "    \n",
    "    # return pandas DataFrame\n",
    "    return pd.DataFrame(output_rules, columns = ['Left_rule', 'Right_rule', 'Support', 'Confidence'])"
   ]
  },
  {
   "cell_type": "code",
   "execution_count": 46,
   "metadata": {},
   "outputs": [
    {
     "data": {
      "text/html": [
       "<div>\n",
       "<style scoped>\n",
       "    .dataframe tbody tr th:only-of-type {\n",
       "        vertical-align: middle;\n",
       "    }\n",
       "\n",
       "    .dataframe tbody tr th {\n",
       "        vertical-align: top;\n",
       "    }\n",
       "\n",
       "    .dataframe thead th {\n",
       "        text-align: right;\n",
       "    }\n",
       "</style>\n",
       "<table border=\"1\" class=\"dataframe\">\n",
       "  <thead>\n",
       "    <tr style=\"text-align: right;\">\n",
       "      <th></th>\n",
       "      <th>Left_rule</th>\n",
       "      <th>Right_rule</th>\n",
       "      <th>Support</th>\n",
       "      <th>Confidence</th>\n",
       "    </tr>\n",
       "  </thead>\n",
       "  <tbody>\n",
       "    <tr>\n",
       "      <td>0</td>\n",
       "      <td>[Gyeonggi-do_Gimpo-si]</td>\n",
       "      <td>[Seoul_Jung-gu]</td>\n",
       "      <td>0.002245</td>\n",
       "      <td>0.2</td>\n",
       "    </tr>\n",
       "    <tr>\n",
       "      <td>1</td>\n",
       "      <td>[Gyeonggi-do_Gimpo-si]</td>\n",
       "      <td>[Seoul_Jung-gu, Daejeon_Dong-gu]</td>\n",
       "      <td>0.001122</td>\n",
       "      <td>0.1</td>\n",
       "    </tr>\n",
       "    <tr>\n",
       "      <td>2</td>\n",
       "      <td>[Gyeonggi-do_Gimpo-si]</td>\n",
       "      <td>[Gyeonggi-do_Goyang-si]</td>\n",
       "      <td>0.001122</td>\n",
       "      <td>0.1</td>\n",
       "    </tr>\n",
       "    <tr>\n",
       "      <td>3</td>\n",
       "      <td>[Gyeonggi-do_Gimpo-si, Daegu_Jung-gu]</td>\n",
       "      <td>[Gyeonggi-do_Goyang-si]</td>\n",
       "      <td>0.001122</td>\n",
       "      <td>0.5</td>\n",
       "    </tr>\n",
       "    <tr>\n",
       "      <td>4</td>\n",
       "      <td>[Gyeonggi-do_Gimpo-si]</td>\n",
       "      <td>[Seoul_Mapo-gu]</td>\n",
       "      <td>0.001122</td>\n",
       "      <td>0.1</td>\n",
       "    </tr>\n",
       "    <tr>\n",
       "      <td>5</td>\n",
       "      <td>[Gyeonggi-do_Gimpo-si, Seoul_Yongsan-gu]</td>\n",
       "      <td>[Seoul_Mapo-gu]</td>\n",
       "      <td>0.001122</td>\n",
       "      <td>1.0</td>\n",
       "    </tr>\n",
       "    <tr>\n",
       "      <td>6</td>\n",
       "      <td>[Gyeonggi-do_Gimpo-si, Seoul_Yongsan-gu, Seoul...</td>\n",
       "      <td>[Seoul_Mapo-gu]</td>\n",
       "      <td>0.001122</td>\n",
       "      <td>1.0</td>\n",
       "    </tr>\n",
       "    <tr>\n",
       "      <td>7</td>\n",
       "      <td>[Gyeonggi-do_Gimpo-si, Seoul_Yeongdeungpo-gu]</td>\n",
       "      <td>[Seoul_Mapo-gu]</td>\n",
       "      <td>0.001122</td>\n",
       "      <td>1.0</td>\n",
       "    </tr>\n",
       "    <tr>\n",
       "      <td>8</td>\n",
       "      <td>[Gyeonggi-do_Gimpo-si]</td>\n",
       "      <td>[Seoul_Mapo-gu, Gyeonggi-do_Icheon-si]</td>\n",
       "      <td>0.001122</td>\n",
       "      <td>0.1</td>\n",
       "    </tr>\n",
       "    <tr>\n",
       "      <td>9</td>\n",
       "      <td>[Gyeonggi-do_Gimpo-si, Seoul_Yongsan-gu]</td>\n",
       "      <td>[Seoul_Mapo-gu, Gyeonggi-do_Icheon-si]</td>\n",
       "      <td>0.001122</td>\n",
       "      <td>1.0</td>\n",
       "    </tr>\n",
       "  </tbody>\n",
       "</table>\n",
       "</div>"
      ],
      "text/plain": [
       "                                           Left_rule  \\\n",
       "0                             [Gyeonggi-do_Gimpo-si]   \n",
       "1                             [Gyeonggi-do_Gimpo-si]   \n",
       "2                             [Gyeonggi-do_Gimpo-si]   \n",
       "3              [Gyeonggi-do_Gimpo-si, Daegu_Jung-gu]   \n",
       "4                             [Gyeonggi-do_Gimpo-si]   \n",
       "5           [Gyeonggi-do_Gimpo-si, Seoul_Yongsan-gu]   \n",
       "6  [Gyeonggi-do_Gimpo-si, Seoul_Yongsan-gu, Seoul...   \n",
       "7      [Gyeonggi-do_Gimpo-si, Seoul_Yeongdeungpo-gu]   \n",
       "8                             [Gyeonggi-do_Gimpo-si]   \n",
       "9           [Gyeonggi-do_Gimpo-si, Seoul_Yongsan-gu]   \n",
       "\n",
       "                               Right_rule   Support  Confidence  \n",
       "0                         [Seoul_Jung-gu]  0.002245         0.2  \n",
       "1        [Seoul_Jung-gu, Daejeon_Dong-gu]  0.001122         0.1  \n",
       "2                 [Gyeonggi-do_Goyang-si]  0.001122         0.1  \n",
       "3                 [Gyeonggi-do_Goyang-si]  0.001122         0.5  \n",
       "4                         [Seoul_Mapo-gu]  0.001122         0.1  \n",
       "5                         [Seoul_Mapo-gu]  0.001122         1.0  \n",
       "6                         [Seoul_Mapo-gu]  0.001122         1.0  \n",
       "7                         [Seoul_Mapo-gu]  0.001122         1.0  \n",
       "8  [Seoul_Mapo-gu, Gyeonggi-do_Icheon-si]  0.001122         0.1  \n",
       "9  [Seoul_Mapo-gu, Gyeonggi-do_Icheon-si]  0.001122         1.0  "
      ]
     },
     "execution_count": 46,
     "metadata": {},
     "output_type": "execute_result"
    }
   ],
   "source": [
    "z.head(10)"
   ]
  },
  {
   "cell_type": "markdown",
   "metadata": {},
   "source": [
    "The first rule is Gyeonggi_do_Gimpo-si => Seoul_Jung-gu with 0.002245 support and 0.2 confidence. This is a low-rate rule. The\n",
    "support value implies that 0.22% of patients go to Seoul_Jung-gu after visiting Gyeonggi-do_Gimpo-si . The confidence value\n",
    "implies that if a patient has been to Gyeonggi-do_Gimpo-si , the probability of them going to Seoul_Jung-gu subsequently is\n",
    "20%%"
   ]
  },
  {
   "cell_type": "code",
   "execution_count": null,
   "metadata": {},
   "outputs": [],
   "source": []
  }
 ],
 "metadata": {
  "kernelspec": {
   "display_name": "Python 3",
   "language": "python",
   "name": "python3"
  },
  "language_info": {
   "codemirror_mode": {
    "name": "ipython",
    "version": 3
   },
   "file_extension": ".py",
   "mimetype": "text/x-python",
   "name": "python",
   "nbconvert_exporter": "python",
   "pygments_lexer": "ipython3",
   "version": "3.7.4"
  }
 },
 "nbformat": 4,
 "nbformat_minor": 4
}
