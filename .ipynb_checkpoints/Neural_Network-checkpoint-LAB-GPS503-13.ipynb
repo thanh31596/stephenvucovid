{
 "cells": [
  {
   "cell_type": "markdown",
   "metadata": {},
   "source": [
    "# <font color=red> Neural Networks </font>"
   ]
  },
  {
   "cell_type": "code",
   "execution_count": 1,
   "metadata": {},
   "outputs": [],
   "source": [
    "import pandas as pd \n",
    "import numpy as np \n",
    "from stephentools import get_file\n",
    "from stephentools import data_d3\n",
    "from stephentools import analyse_feature_importance\n",
    "from stephentools import visualize_decision_tree\n",
    "from sklearn.metrics import r2_score\n",
    "import warnings\n",
    "warnings.filterwarnings(\"ignore\")\n",
    "from sklearn.neural_network import MLPClassifier\n",
    "from sklearn.metrics import classification_report, accuracy_score\n",
    "from sklearn.model_selection import GridSearchCV\n",
    "from sklearn.preprocessing import StandardScaler\n"
   ]
  },
  {
   "cell_type": "code",
   "execution_count": 2,
   "metadata": {},
   "outputs": [],
   "source": [
    "df = get_file()\n",
    "df,X,y,X_train, X_test, y_train, y_test=data_d3()\n",
    "rs=42"
   ]
  },
  {
   "cell_type": "markdown",
   "metadata": {},
   "source": [
    "## Build a Neural Network model using the default setting. Answer the following: "
   ]
  },
  {
   "cell_type": "markdown",
   "metadata": {},
   "source": [
    "### a. Explain the parameters in the model: Network architecture, iterations, activation functions..."
   ]
  },
  {
   "cell_type": "code",
   "execution_count": 3,
   "metadata": {},
   "outputs": [
    {
     "name": "stdout",
     "output_type": "stream",
     "text": [
      "Train accuracy: 0.8561190738699008\n",
      "Test accuracy: 0.7970330411328388\n",
      "              precision    recall  f1-score   support\n",
      "\n",
      "       False       0.85      0.82      0.84       940\n",
      "        True       0.71      0.75      0.73       543\n",
      "\n",
      "    accuracy                           0.80      1483\n",
      "   macro avg       0.78      0.79      0.78      1483\n",
      "weighted avg       0.80      0.80      0.80      1483\n",
      "\n",
      "MLPClassifier(activation='relu', alpha=0.0001, batch_size='auto', beta_1=0.9,\n",
      "              beta_2=0.999, early_stopping=False, epsilon=1e-08,\n",
      "              hidden_layer_sizes=(100,), learning_rate='constant',\n",
      "              learning_rate_init=0.001, max_iter=200, momentum=0.9,\n",
      "              n_iter_no_change=10, nesterovs_momentum=True, power_t=0.5,\n",
      "              random_state=42, shuffle=True, solver='adam', tol=0.0001,\n",
      "              validation_fraction=0.1, verbose=False, warm_start=False)\n"
     ]
    }
   ],
   "source": [
    "model_1 = MLPClassifier(random_state=rs)\n",
    "model_1.fit(X_train, y_train)\n",
    "\n",
    "print(\"Train accuracy:\", model_1.score(X_train, y_train))\n",
    "print(\"Test accuracy:\", model_1.score(X_test, y_test))\n",
    "\n",
    "y_pred = model_1.predict(X_test)\n",
    "print(classification_report(y_test, y_pred))\n",
    "\n",
    "print(model_1)"
   ]
  },
  {
   "cell_type": "code",
   "execution_count": 5,
   "metadata": {},
   "outputs": [
    {
     "data": {
      "text/plain": [
       "array([1, 1, 0, ..., 0, 0, 1], dtype=int64)"
      ]
     },
     "execution_count": 5,
     "metadata": {},
     "output_type": "execute_result"
    }
   ],
   "source": [
    "y_pred"
   ]
  },
  {
   "cell_type": "markdown",
   "metadata": {},
   "source": [
    "# Fine Tune Model"
   ]
  },
  {
   "cell_type": "code",
   "execution_count": 11,
   "metadata": {},
   "outputs": [
    {
     "name": "stdout",
     "output_type": "stream",
     "text": [
      "(3628, 170)\n"
     ]
    }
   ],
   "source": [
    "print(X_train.shape)"
   ]
  },
  {
   "cell_type": "code",
   "execution_count": 12,
   "metadata": {},
   "outputs": [
    {
     "data": {
      "text/plain": [
       "GridSearchCV(cv=10, error_score='raise-deprecating',\n",
       "             estimator=MLPClassifier(activation='relu', alpha=0.0001,\n",
       "                                     batch_size='auto', beta_1=0.9,\n",
       "                                     beta_2=0.999, early_stopping=False,\n",
       "                                     epsilon=1e-08, hidden_layer_sizes=(100,),\n",
       "                                     learning_rate='constant',\n",
       "                                     learning_rate_init=0.001, max_iter=200,\n",
       "                                     momentum=0.9, n_iter_no_change=10,\n",
       "                                     nesterovs_momentum=True, power_t=0.5,\n",
       "                                     random_state=42, shuffle=True,\n",
       "                                     solver='adam', tol=0.0001,\n",
       "                                     validation_fraction=0.1, verbose=False,\n",
       "                                     warm_start=False),\n",
       "             iid='warn', n_jobs=-1,\n",
       "             param_grid={'hidden_layer_sizes': [(9,), (29,), (49,), (69,),\n",
       "                                                (89,), (109,), (129,), (149,),\n",
       "                                                (169,)]},\n",
       "             pre_dispatch='2*n_jobs', refit=True, return_train_score=True,\n",
       "             scoring=None, verbose=0)"
      ]
     },
     "execution_count": 12,
     "metadata": {},
     "output_type": "execute_result"
    }
   ],
   "source": [
    "params = {'hidden_layer_sizes': [(x,) for x in range(9, 171, 20)]}\n",
    "\n",
    "cv_1 = GridSearchCV(param_grid=params, estimator=MLPClassifier(random_state=rs),return_train_score=True, cv=10, n_jobs=-1)\n",
    "cv_1.fit(X_train, y_train)"
   ]
  },
  {
   "cell_type": "code",
   "execution_count": 13,
   "metadata": {},
   "outputs": [
    {
     "name": "stdout",
     "output_type": "stream",
     "text": [
      "{'mean_fit_time': array([ 2.10932329,  3.30568678,  3.77730925,  4.83850107,  7.52498233,\n",
      "        7.62861011, 10.8613627 ,  9.83472459, 13.90048013]), 'std_fit_time': array([0.27729695, 0.6281056 , 1.25018389, 1.58400803, 2.831203  ,\n",
      "       3.06724387, 4.67758763, 4.44761206, 2.84818447]), 'mean_score_time': array([0.00156198, 0.0007983 , 0.00329111, 0.00229287, 0.00193911,\n",
      "       0.0067697 , 0.00452192, 0.00339274, 0.0036572 ]), 'std_score_time': array([0.00468593, 0.00074676, 0.00524838, 0.00100292, 0.00176016,\n",
      "       0.01203639, 0.00577717, 0.00245261, 0.00420778]), 'param_hidden_layer_sizes': masked_array(data=[(9,), (29,), (49,), (69,), (89,), (109,), (129,),\n",
      "                   (149,), (169,)],\n",
      "             mask=[False, False, False, False, False, False, False, False,\n",
      "                   False],\n",
      "       fill_value='?',\n",
      "            dtype=object), 'params': [{'hidden_layer_sizes': (9,)}, {'hidden_layer_sizes': (29,)}, {'hidden_layer_sizes': (49,)}, {'hidden_layer_sizes': (69,)}, {'hidden_layer_sizes': (89,)}, {'hidden_layer_sizes': (109,)}, {'hidden_layer_sizes': (129,)}, {'hidden_layer_sizes': (149,)}, {'hidden_layer_sizes': (169,)}], 'split0_test_score': array([0.81318681, 0.81868132, 0.82417582, 0.82142857, 0.78021978,\n",
      "       0.81868132, 0.7967033 , 0.81043956, 0.80494505]), 'split1_test_score': array([0.8292011 , 0.83471074, 0.81818182, 0.80991736, 0.815427  ,\n",
      "       0.82644628, 0.81267218, 0.82093664, 0.815427  ]), 'split2_test_score': array([0.82369146, 0.80716253, 0.80716253, 0.80716253, 0.78787879,\n",
      "       0.80991736, 0.79614325, 0.79889807, 0.78236915]), 'split3_test_score': array([0.79338843, 0.79063361, 0.79338843, 0.79889807, 0.79063361,\n",
      "       0.79063361, 0.78512397, 0.77134986, 0.74655647]), 'split4_test_score': array([0.7630854 , 0.78512397, 0.7630854 , 0.77961433, 0.77410468,\n",
      "       0.77410468, 0.7768595 , 0.75757576, 0.78512397]), 'split5_test_score': array([0.79063361, 0.7630854 , 0.7768595 , 0.79338843, 0.72727273,\n",
      "       0.79614325, 0.77410468, 0.79614325, 0.78512397]), 'split6_test_score': array([0.79889807, 0.80165289, 0.82644628, 0.79338843, 0.82093664,\n",
      "       0.82093664, 0.80716253, 0.80991736, 0.80440771]), 'split7_test_score': array([0.78453039, 0.79281768, 0.79005525, 0.79558011, 0.79005525,\n",
      "       0.79281768, 0.8038674 , 0.79281768, 0.79558011]), 'split8_test_score': array([0.78729282, 0.79005525, 0.79834254, 0.77900552, 0.79558011,\n",
      "       0.77348066, 0.78453039, 0.79558011, 0.79834254]), 'split9_test_score': array([0.80110497, 0.79005525, 0.80662983, 0.79005525, 0.77071823,\n",
      "       0.81767956, 0.79281768, 0.79005525, 0.79005525]), 'mean_test_score': array([0.79851158, 0.79740904, 0.80044101, 0.79685777, 0.78528115,\n",
      "       0.80209482, 0.7929989 , 0.79437707, 0.79079383]), 'std_test_score': array([0.01861281, 0.01861195, 0.01937672, 0.01254658, 0.02464631,\n",
      "       0.01838945, 0.01216941, 0.01771439, 0.01779639]), 'rank_test_score': array([3, 4, 2, 5, 9, 1, 7, 6, 8]), 'split0_train_score': array([0.8091299 , 0.82935049, 0.82751225, 0.82751225, 0.79289216,\n",
      "       0.81832108, 0.8314951 , 0.79227941, 0.85906863]), 'split1_train_score': array([0.818683  , 0.8287902 , 0.8101072 , 0.84410413, 0.85635528,\n",
      "       0.84777948, 0.85941807, 0.82388974, 0.86033691]), 'split2_train_score': array([0.81898928, 0.84808576, 0.82909648, 0.85145482, 0.84073507,\n",
      "       0.85390505, 0.82235835, 0.85819296, 0.85941807]), 'split3_train_score': array([0.81837672, 0.83185299, 0.82511485, 0.8474732 , 0.84410413,\n",
      "       0.84196018, 0.83767228, 0.83277182, 0.85911179]), 'split4_train_score': array([0.82572741, 0.85390505, 0.82787136, 0.86033691, 0.8287902 ,\n",
      "       0.82113323, 0.85788668, 0.81592649, 0.86523737]), 'split5_train_score': array([0.82358346, 0.856049  , 0.83246554, 0.85451761, 0.84287902,\n",
      "       0.83583461, 0.8676876 , 0.84532925, 0.85359877]), 'split6_train_score': array([0.8058193 , 0.83644717, 0.83797856, 0.8388974 , 0.82235835,\n",
      "       0.82787136, 0.83460949, 0.8431853 , 0.86401225]), 'split7_train_score': array([0.82026944, 0.8413962 , 0.84721372, 0.83557869, 0.84690753,\n",
      "       0.83680343, 0.85915493, 0.81781996, 0.86864666]), 'split8_train_score': array([0.81843233, 0.83098592, 0.82578077, 0.83343539, 0.85241886,\n",
      "       0.80985915, 0.83710961, 0.8475199 , 0.87844458]), 'split9_train_score': array([0.82180037, 0.83159829, 0.84445805, 0.83098592, 0.80312309,\n",
      "       0.85333742, 0.83374158, 0.8759951 , 0.83894672]), 'mean_train_score': array([0.81808112, 0.83884611, 0.83075988, 0.84242963, 0.83305637,\n",
      "       0.8346805 , 0.84411337, 0.83529099, 0.86068218]), 'std_train_score': array([0.00582441, 0.00987343, 0.01009077, 0.01034544, 0.02007215,\n",
      "       0.01435863, 0.01458379, 0.02271675, 0.00969622])}\n"
     ]
    }
   ],
   "source": [
    "result_set = cv_1.cv_results_\n",
    "print(result_set)"
   ]
  },
  {
   "cell_type": "code",
   "execution_count": 19,
   "metadata": {},
   "outputs": [
    {
     "name": "stdout",
     "output_type": "stream",
     "text": [
      "Train accuracy: 0.7803197353914002\n",
      "Test accuracy: 0.758597437626433\n",
      "              precision    recall  f1-score   support\n",
      "\n",
      "           0       0.88      0.72      0.79       940\n",
      "           1       0.63      0.83      0.71       543\n",
      "\n",
      "    accuracy                           0.76      1483\n",
      "   macro avg       0.75      0.77      0.75      1483\n",
      "weighted avg       0.79      0.76      0.76      1483\n",
      "\n",
      "{'hidden_layer_sizes': (109,)}\n"
     ]
    }
   ],
   "source": [
    "print(\"Train accuracy:\", cv_1.score(X_train, y_train))\n",
    "print(\"Test accuracy:\", cv_1.score(X_test, y_test))\n",
    "\n",
    "y_pred = cv_1.predict(X_test)\n",
    "print(classification_report(y_test, y_pred))\n",
    "\n",
    "print(cv_1.best_params_)"
   ]
  },
  {
   "cell_type": "code",
   "execution_count": 15,
   "metadata": {},
   "outputs": [
    {
     "name": "stdout",
     "output_type": "stream",
     "text": [
      "Total number of models:  9\n"
     ]
    },
    {
     "data": {
      "image/png": "[encoded data removed]",
      "text/plain": [
       "<Figure size 432x288 with 1 Axes>"
      ]
     },
     "metadata": {
      "needs_background": "light"
     },
     "output_type": "display_data"
    }
   ],
   "source": [
    "import matplotlib.pyplot as plt\n",
    "train_result = result_set['split0_train_score']\n",
    "test_result = result_set['split0_test_score']\n",
    "print(\"Total number of models: \", len(test_result))\n",
    "# plot hidden layers hyperparameter values vs training and test accuracy score\n",
    "plt.plot(range(0, len(train_result)), train_result, 'b', range(0,len(test_result)), test_result, 'r')\n",
    "plt.xlabel('Hyperparameter Hidden_layers\\nBlue = training acc. Red = test acc.')\n",
    "plt.xticks(range(0, len(train_result)),range(5, 86, 20))\n",
    "plt.ylabel('score')\n",
    "plt.show()"
   ]
  },
  {
   "cell_type": "code",
   "execution_count": 18,
   "metadata": {},
   "outputs": [
    {
     "name": "stdout",
     "output_type": "stream",
     "text": [
      "Train accuracy: 0.8291069459757442\n",
      "Test accuracy: 0.7983816587997303\n",
      "              precision    recall  f1-score   support\n",
      "\n",
      "           0       0.79      0.92      0.85       940\n",
      "           1       0.81      0.59      0.68       543\n",
      "\n",
      "    accuracy                           0.80      1483\n",
      "   macro avg       0.80      0.75      0.77      1483\n",
      "weighted avg       0.80      0.80      0.79      1483\n",
      "\n",
      "{'hidden_layer_sizes': (3,)}\n"
     ]
    }
   ],
   "source": [
    "# new parameters\n",
    "params = {'hidden_layer_sizes': [(3,), (5,), (7,), (9,)]}\n",
    "\n",
    "cv_2 = GridSearchCV(param_grid=params, estimator=MLPClassifier(random_state=rs), cv=10, n_jobs=-1)\n",
    "cv_2.fit(X_train, y_train)\n",
    "\n",
    "print(\"Train accuracy:\", cv_2.score(X_train, y_train))\n",
    "print(\"Test accuracy:\", cv_2.score(X_test, y_test))\n",
    "\n",
    "y_pred = cv_2.predict(X_test)\n",
    "print(classification_report(y_test, y_pred))\n",
    "\n",
    "print(cv_2.best_params_)"
   ]
  },
  {
   "cell_type": "code",
   "execution_count": 20,
   "metadata": {},
   "outputs": [
    {
     "name": "stdout",
     "output_type": "stream",
     "text": [
      "Train accuracy: 0.8280044101433297\n",
      "Test accuracy: 0.7997302764666218\n",
      "              precision    recall  f1-score   support\n",
      "\n",
      "           0       0.79      0.92      0.85       940\n",
      "           1       0.82      0.58      0.68       543\n",
      "\n",
      "    accuracy                           0.80      1483\n",
      "   macro avg       0.81      0.75      0.77      1483\n",
      "weighted avg       0.80      0.80      0.79      1483\n",
      "\n",
      "{'alpha': 0.01, 'hidden_layer_sizes': (3,)}\n"
     ]
    }
   ],
   "source": [
    "params = {'hidden_layer_sizes': [(3,), (5,), (7,), (9,)], 'alpha': [0.01,0.001, 0.0001, 0.00001]}\n",
    "\n",
    "cv_3 = GridSearchCV(param_grid=params, estimator=MLPClassifier(random_state=rs), cv=10, n_jobs=-1)\n",
    "cv_3.fit(X_train, y_train)\n",
    "\n",
    "print(\"Train accuracy:\", cv_3.score(X_train, y_train))\n",
    "print(\"Test accuracy:\", cv_3.score(X_test, y_test))\n",
    "\n",
    "y_pred = cv_3.predict(X_test)\n",
    "print(classification_report(y_test, y_pred))\n",
    "\n",
    "print(cv_3.best_params_)"
   ]
  },
  {
   "cell_type": "code",
   "execution_count": 21,
   "metadata": {},
   "outputs": [
    {
     "name": "stdout",
     "output_type": "stream",
     "text": [
      "152\n"
     ]
    }
   ],
   "source": [
    "from sklearn.feature_selection import RFECV\n",
    "from sklearn.linear_model import LogisticRegression\n",
    "\n",
    "rfe = RFECV(estimator = LogisticRegression(random_state=rs), cv=10)\n",
    "rfe.fit(X_train, y_train)\n",
    "\n",
    "print(rfe.n_features_)"
   ]
  },
  {
   "cell_type": "code",
   "execution_count": 22,
   "metadata": {},
   "outputs": [
    {
     "name": "stdout",
     "output_type": "stream",
     "text": [
      "Train accuracy: 0.8412348401323043\n",
      "Test accuracy: 0.7956844234659474\n",
      "              precision    recall  f1-score   support\n",
      "\n",
      "           0       0.81      0.89      0.85       940\n",
      "           1       0.76      0.64      0.70       543\n",
      "\n",
      "    accuracy                           0.80      1483\n",
      "   macro avg       0.79      0.76      0.77      1483\n",
      "weighted avg       0.79      0.80      0.79      1483\n",
      "\n",
      "{'alpha': 0.001, 'hidden_layer_sizes': (9,)}\n"
     ]
    }
   ],
   "source": [
    "X_train_rfe = rfe.transform(X_train)\n",
    "X_test_rfe = rfe.transform(X_test)\n",
    "\n",
    "# step = int((X_train_rfe.shape[1] + 5)/5);\n",
    "params = {'hidden_layer_sizes': [(3,), (5,), (7,), (9,)], 'alpha': [0.01,0.001, 0.0001, 0.00001]}\n",
    "\n",
    "rfe_cv = GridSearchCV(param_grid=params, estimator=MLPClassifier(random_state=rs), cv=10, n_jobs=-1)\n",
    "rfe_cv.fit(X_train_rfe, y_train)\n",
    "\n",
    "print(\"Train accuracy:\", rfe_cv.score(X_train_rfe, y_train))\n",
    "print(\"Test accuracy:\", rfe_cv.score(X_test_rfe, y_test))\n",
    "\n",
    "y_pred = rfe_cv.predict(X_test_rfe)\n",
    "print(classification_report(y_test, y_pred))\n",
    "\n",
    "print(rfe_cv.best_params_)"
   ]
  },
  {
   "cell_type": "code",
   "execution_count": 25,
   "metadata": {},
   "outputs": [
    {
     "name": "stdout",
     "output_type": "stream",
     "text": [
      "ROC index on test for NN_default: 0.8558226558520433\n",
      "ROC index on test for NN with gridsearch 1: 0.8571215861447435\n",
      "ROC index on test for NN with gridsearch 2: 0.8521707613338033\n",
      "ROC index on test for NN with gridsearch 3: 0.8518494573096665\n",
      "ROC index on test for NN with feature selection and gridsearch: 0.8540780141843971\n"
     ]
    }
   ],
   "source": [
    "from sklearn.metrics import roc_auc_score\n",
    "\n",
    "y_pred_proba_nn_1 = model_1.predict_proba(X_test)\n",
    "y_pred_proba_cv_1 = cv_1.predict_proba(X_test)\n",
    "y_pred_proba_cv_2 = cv_2.predict_proba(X_test)\n",
    "y_pred_proba_cv_3 = cv_3.predict_proba(X_test)\n",
    "y_pred_proba_rfe_cv = rfe_cv.predict_proba(X_test_rfe)\n",
    "\n",
    "\n",
    "roc_index_nn_1 = roc_auc_score(y_test, y_pred_proba_nn_1[:, 1])\n",
    "roc_index_cv_1 = roc_auc_score(y_test, y_pred_proba_cv_1[:, 1])\n",
    "roc_index_cv_2 = roc_auc_score(y_test, y_pred_proba_cv_2[:, 1])\n",
    "roc_index_cv_3 = roc_auc_score(y_test, y_pred_proba_cv_3[:, 1])\n",
    "roc_index_rfe_cv = roc_auc_score(y_test, y_pred_proba_rfe_cv[:, 1])\n",
    "\n",
    "\n",
    "print(\"ROC index on test for NN_default:\", roc_index_nn_1)\n",
    "print(\"ROC index on test for NN with gridsearch 1:\", roc_index_cv_1)\n",
    "print(\"ROC index on test for NN with gridsearch 2:\", roc_index_cv_2)\n",
    "print(\"ROC index on test for NN with gridsearch 3:\", roc_index_cv_3)\n",
    "print(\"ROC index on test for NN with feature selection and gridsearch:\", roc_index_rfe_cv)\n",
    "\n",
    "\n",
    "from sklearn.metrics import roc_curve\n",
    "\n",
    "fpr_nn_1, tpr_nn_1, thresholds_nn_1 = roc_curve(y_test, y_pred_proba_nn_1[:,1])\n",
    "fpr_cv_1, tpr_cv_1, thresholds_cv_1 = roc_curve(y_test, y_pred_proba_cv_1[:,1])\n",
    "fpr_cv_2, tpr_cv_2, thresholds_cv_2 = roc_curve(y_test, y_pred_proba_cv_2[:,1])\n",
    "fpr_cv_3, tpr_cv_3, thresholds_cv_3 = roc_curve(y_test, y_pred_proba_cv_3[:,1])\n",
    "fpr_rfe_cv, tpr_rfe_cv, thresholds_rfe_cv = roc_curve(y_test, y_pred_proba_rfe_cv[:,1])\n"
   ]
  },
  {
   "cell_type": "code",
   "execution_count": 26,
   "metadata": {},
   "outputs": [
    {
     "data": {
      "image/png": "[encoded data removed]",
      "text/plain": [
       "<Figure size 432x288 with 1 Axes>"
      ]
     },
     "metadata": {
      "needs_background": "light"
     },
     "output_type": "display_data"
    }
   ],
   "source": [
    "import matplotlib.pyplot as plt\n",
    "\n",
    "plt.plot(fpr_nn_1, tpr_nn_1, label='NN_default {:.3f}'.format(roc_index_nn_1), color='red', lw=0.5)\n",
    "plt.plot(fpr_cv_1, tpr_cv_1, label='NN cv_1 {:.3f}'.format(roc_index_cv_1), color='blue', lw=0.5)\n",
    "plt.plot(fpr_cv_2, tpr_cv_2, label='NN cv_2 {:.3f}'.format(roc_index_cv_2), color='yellow', lw=0.5)\n",
    "plt.plot(fpr_cv_3, tpr_cv_3, label='NN cv_3 {:.3f}'.format(roc_index_cv_3), color='cyan', lw=0.5)\n",
    "plt.plot(fpr_rfe_cv, tpr_rfe_cv, label='NN rfe_cv {:.3f}'.format(roc_index_rfe_cv), color='gray', lw=0.5)\n",
    "\n",
    "\n",
    "\n",
    "plt.plot([0, 1], [0, 1], color='navy', lw=0.5, linestyle='--')\n",
    "plt.xlim([0.0, 1.0])\n",
    "plt.ylim([0.0, 1.0])\n",
    "plt.xlabel('False Positive Rate')\n",
    "plt.ylabel('True Positive Rate')\n",
    "plt.title('Receiver operating characteristic example')\n",
    "plt.legend(loc=\"lower right\")\n",
    "plt.show()"
   ]
  },
  {
   "cell_type": "code",
   "execution_count": null,
   "metadata": {},
   "outputs": [],
   "source": []
  }
 ],
 "metadata": {
  "kernelspec": {
   "display_name": "Python 3",
   "language": "python",
   "name": "python3"
  },
  "language_info": {
   "codemirror_mode": {
    "name": "ipython",
    "version": 3
   },
   "file_extension": ".py",
   "mimetype": "text/x-python",
   "name": "python",
   "nbconvert_exporter": "python",
   "pygments_lexer": "ipython3",
   "version": "3.7.4"
  }
 },
 "nbformat": 4,
 "nbformat_minor": 2
}
